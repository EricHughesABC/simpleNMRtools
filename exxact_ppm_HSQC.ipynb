{
 "cells": [
  {
   "cell_type": "code",
   "execution_count": 1,
   "id": "66bcd81b",
   "metadata": {},
   "outputs": [],
   "source": [
    "%load_ext autoreload\n",
    "%autoreload 2"
   ]
  },
  {
   "cell_type": "code",
   "execution_count": 2,
   "id": "e4a6b693",
   "metadata": {},
   "outputs": [
    {
     "name": "stdout",
     "output_type": "stream",
     "text": [
      "1000\n",
      "600\n",
      "1000\n",
      "600\n"
     ]
    }
   ],
   "source": [
    "import os\n",
    "import platform\n",
    "import subprocess\n",
    "import json\n",
    "from io import StringIO\n",
    "import numpy as np\n",
    "import pandas as pd\n",
    "from pathlib import Path\n",
    "\n",
    "\n",
    "from html_from_assignments import NMRProblem\n",
    "import jsonUtils\n",
    "\n",
    "import nmrsolution\n",
    "from globals import svgDimensions\n",
    "\n",
    "import rdkit\n",
    "from rdkit import Chem\n",
    "from rdkit.Chem import AllChem\n",
    "from rdkit.Chem import Draw"
   ]
  },
  {
   "cell_type": "code",
   "execution_count": 3,
   "id": "a7bee9f8",
   "metadata": {},
   "outputs": [],
   "source": [
    "%matplotlib inline"
   ]
  },
  {
   "cell_type": "code",
   "execution_count": 4,
   "id": "bb3d061e",
   "metadata": {},
   "outputs": [],
   "source": [
    "if platform.system() == \"Darwin\":\n",
    "\n",
    "    fn_json = Path(\"/Users/vsmw51/Downloads/4Eric/camphor_AMK/camphor_AMK_assignments_mresnova.json\")\n",
    "    fn_json = Path(\"/Users/vsmw51/Downloads/4Eric/caryophyllene/caryophyllene_assignments_mresnova.json\")\n",
    "    fn_json = Path(\"/Users/vsmw51/OneDrive - Durham University/projects/programming/2025/python/awh/bruker_data_sets/E72507_04164043_propyl_benzoate/E72507_04164043_propyl_benzoate_assignments_mresnova.json\")\n",
    "\n",
    "elif platform.system() == \"Windows\":\n",
    "    fn_json = Path(\"C:/Users/vsmw51/Downloads/4Eric/camphor_AMK/camphor_AMK_assignments_mresnova.json\")\n",
    "    fn_json = Path(\"C:/Users/vsmw51/Downloads/4Eric/caryophyllene/caryophyllene_assignments_mresnova.json\")\n",
    "    fn_json = Path(\"C:/Users/vsmw51/OneDrive - Durham University/projects/programming/2025/python/awh/bruker_data_sets/E72507_04164043_propyl_benzoate/E72507_04164043_propyl_benzoate_assignments_mresnova.json\")  \n",
    "    "
   ]
  },
  {
   "cell_type": "code",
   "execution_count": 5,
   "id": "d528ddd0",
   "metadata": {},
   "outputs": [],
   "source": [
    "with open(fn_json, 'r') as f:\n",
    "    json_data = json.load(f)"
   ]
  },
  {
   "cell_type": "code",
   "execution_count": 6,
   "id": "aec65a7d",
   "metadata": {},
   "outputs": [
    {
     "data": {
      "text/plain": [
       "['C13_1D_0',\n",
       " 'DDEPT_CH3_ONLY_0',\n",
       " 'HMBC_0',\n",
       " 'HSQC_0',\n",
       " 'HSQC_CLIPCOSY_0',\n",
       " 'MNOVAcalcMethod',\n",
       " 'SKIP_0',\n",
       " 'SKIP_1',\n",
       " 'SKIP_2',\n",
       " 'allAtomsInfo',\n",
       " 'c13predictions',\n",
       " 'carbonAtomsInfo',\n",
       " 'chosenSpectra',\n",
       " 'exptIdentifiers',\n",
       " 'hostname',\n",
       " 'ml_consent',\n",
       " 'molfile',\n",
       " 'nmrAssignments',\n",
       " 'simulatedAnnealing',\n",
       " 'smiles',\n",
       " 'spectraWithPeaks',\n",
       " 'workingDirectory',\n",
       " 'workingFilename']"
      ]
     },
     "execution_count": 6,
     "metadata": {},
     "output_type": "execute_result"
    }
   ],
   "source": [
    "lll = list(json_data.keys())\n",
    "lll.sort()\n",
    "lll"
   ]
  },
  {
   "cell_type": "code",
   "execution_count": 7,
   "id": "e719f03d",
   "metadata": {},
   "outputs": [
    {
     "name": "stdout",
     "output_type": "stream",
     "text": [
      "\n",
      "from_mnova_dict(cls,json_data: dict):\n",
      "\n",
      "\n",
      "read_in_mesrenova_json(fn: Path) -> dict:\n",
      "\n",
      "\n",
      "return_nonempty_mnova_datasets(data: dict) -> dict:\n",
      "\n",
      "\n",
      "create_dataframes_from_mresnova_json(data: dict) -> dict:\n",
      "\n",
      "***** EEH ****\n",
      "Processing key: smiles\n",
      "k1: smiles\n",
      "Processing key: molfile\n",
      "k1: molfile\n",
      "Processing key: hostname\n",
      "k1: hostname\n",
      "Skipping hostname\n",
      "Processing key: allAtomsInfo\n",
      "k1: allAtomsInfo\n",
      "Processing key: carbonAtomsInfo\n",
      "k1: carbonAtomsInfo\n",
      "Processing key: nmrAssignments\n",
      "k1: nmrAssignments\n",
      "Processing key: c13predictions\n",
      "k1: c13predictions\n",
      "Processing key: chosenSpectra\n",
      "k1: chosenSpectra\n",
      "Processing key: SKIP_0\n",
      "k1: SKIP\n",
      "Skipping SKIP\n",
      "Processing key: SKIP_1\n",
      "k1: SKIP\n",
      "Skipping SKIP\n",
      "Processing key: C13_1D_0\n",
      "k1: C13_1D\n",
      "\n",
      "get_1d_dataframe_from_json C13_1D_0:\n",
      "\n",
      "           ppm   Intensity  Type\n",
      "0  166.695425   19.994448     0\n",
      "1  132.802759   64.810880     0\n",
      "2  130.545516   25.182103     0\n",
      "3  129.543251  124.670495     0\n",
      "4  128.326245  127.283891     0\n",
      "5   66.540012   65.078485     0\n",
      "6   22.133251   73.437556     0\n",
      "7   10.534988   73.387856     0\n",
      "\n",
      "Processing key: SKIP_2\n",
      "k1: SKIP\n",
      "Skipping SKIP\n",
      "Processing key: HSQC_0\n",
      "k1: HSQC\n",
      "technique:  HSQC_0\n",
      "Processing key: HMBC_0\n",
      "k1: HMBC\n",
      "technique:  HMBC_0\n",
      "Processing key: HSQC_CLIPCOSY_0\n",
      "k1: HSQC_CLIPCOSY\n",
      "technique:  HSQC_CLIPCOSY_0\n",
      "Processing key: DDEPT_CH3_ONLY_0\n",
      "k1: DDEPT_CH3_ONLY\n",
      "technique:  DDEPT_CH3_ONLY_0\n",
      "Processing key: MNOVAcalcMethod\n",
      "k1: MNOVAcalcMethod\n",
      "Processing key: exptIdentifiers\n",
      "k1: exptIdentifiers\n",
      "Skipping exptIdentifiers\n",
      "Processing key: workingDirectory\n",
      "k1: workingDirectory\n",
      "Processing key: workingFilename\n",
      "k1: workingFilename\n",
      "Processing key: simulatedAnnealing\n",
      "k1: simulatedAnnealing\n",
      "Processing key: ml_consent\n",
      "k1: ml\n",
      "Skipping ml\n",
      "Processing key: spectraWithPeaks\n",
      "k1: spectraWithPeaks\n",
      "_dataframes keys:  dict_keys(['smiles', 'molfile', 'allAtomsInfo', 'carbonAtomsInfo', 'nmrAssignments', 'c13predictions', 'chosenSpectra', 'C13_1D_0', 'HSQC_0', 'HMBC_0', 'HSQC_CLIPCOSY_0', 'DDEPT_CH3_ONLY_0', 'MNOVAcalcMethod', 'workingDirectory', 'workingFilename', 'simulatedAnnealing', 'spectraWithPeaks'])\n",
      "\n",
      "from_mnova_dict\n",
      "\n",
      "dataframes keys:  dict_keys(['smiles', 'molfile', 'allAtomsInfo', 'carbonAtomsInfo', 'nmrAssignments', 'c13predictions', 'chosenSpectra', 'C13_1D_0', 'HSQC_0', 'HMBC_0', 'HSQC_CLIPCOSY_0', 'DDEPT_CH3_ONLY_0', 'MNOVAcalcMethod', 'workingDirectory', 'workingFilename', 'simulatedAnnealing', 'spectraWithPeaks'])\n",
      "\n",
      "NMRProblem.__init__(self, dataframes: dict):\n",
      "\n",
      "*********************************************\n",
      "self.dataframes.keys(): dict_keys(['smiles', 'molfile', 'allAtomsInfo', 'carbonAtomsInfo', 'nmrAssignments', 'c13predictions', 'chosenSpectra', 'C13_1D_0', 'HSQC_0', 'HMBC_0', 'HSQC_CLIPCOSY_0', 'DDEPT_CH3_ONLY_0', 'MNOVAcalcMethod', 'workingDirectory', 'workingFilename', 'simulatedAnnealing', 'spectraWithPeaks'])\n",
      "915 self.dataframes.keys():\n",
      " dict_keys(['smiles', 'molfile', 'allAtomsInfo', 'carbonAtomsInfo', 'nmrAssignments', 'c13predictions', 'chosenSpectra', 'C13_1D_0', 'HSQC_0', 'HMBC_0', 'HSQC_CLIPCOSY_0', 'DDEPT_CH3_ONLY_0', 'MNOVAcalcMethod', 'workingDirectory', 'workingFilename', 'simulatedAnnealing', 'spectraWithPeaks', 'molecule', 'H1_1D_0', 'DEPT135_0', 'H1_pureshift_0', 'COSY_0', 'NOESY_0'])\n",
      "917 self.dataframes.keys():\n",
      " dict_keys(['smiles', 'molfile', 'allAtomsInfo', 'carbonAtomsInfo', 'nmrAssignments', 'c13predictions', 'chosenSpectra', 'C13_1D_0', 'HSQC_0', 'HMBC_0', 'HSQC_CLIPCOSY_0', 'DDEPT_CH3_ONLY_0', 'MNOVAcalcMethod', 'workingDirectory', 'workingFilename', 'simulatedAnnealing', 'spectraWithPeaks', 'molecule', 'H1_1D_0', 'DEPT135_0', 'H1_pureshift_0', 'COSY_0', 'NOESY_0'])\n",
      "\n",
      "combine_multiple_nmrExpt_dataframes(dataframes: dict) -> dict:\n",
      "\n",
      "dataframes keys:  dict_keys(['smiles', 'molfile', 'allAtomsInfo', 'carbonAtomsInfo', 'nmrAssignments', 'c13predictions', 'chosenSpectra', 'C13_1D_0', 'HSQC_0', 'HMBC_0', 'HSQC_CLIPCOSY_0', 'DDEPT_CH3_ONLY_0', 'MNOVAcalcMethod', 'workingDirectory', 'workingFilename', 'simulatedAnnealing', 'spectraWithPeaks', 'molecule', 'H1_1D_0', 'DEPT135_0', 'H1_pureshift_0', 'COSY_0', 'NOESY_0'])\n",
      "Processing key: smiles\n",
      "Processing key: molfile\n",
      "Processing key: allAtomsInfo\n",
      "Processing key: carbonAtomsInfo\n",
      "Processing key: nmrAssignments\n",
      "Processing key: c13predictions\n",
      "Processing key: chosenSpectra\n",
      "Processing key: C13_1D_0\n",
      "C13_1D_0 shape: (8, 3)\n",
      "Processing key: HSQC_0\n",
      "HSQC_0 shape: (6, 5)\n",
      "Processing key: HMBC_0\n",
      "HMBC_0 shape: (17, 5)\n",
      "Processing key: HSQC_CLIPCOSY_0\n",
      "HSQC_CLIPCOSY_0 shape: (6, 5)\n",
      "Processing key: DDEPT_CH3_ONLY_0\n",
      "DDEPT_CH3_ONLY_0 shape: (1, 5)\n",
      "Processing key: MNOVAcalcMethod\n",
      "Processing key: workingDirectory\n",
      "Processing key: workingFilename\n",
      "Processing key: simulatedAnnealing\n",
      "Processing key: spectraWithPeaks\n",
      "Processing key: molecule\n",
      "Processing key: H1_1D_0\n",
      "H1_1D_0 shape: (0, 8)\n",
      "Processing key: DEPT135_0\n",
      "DEPT135_0 shape: (0, 8)\n",
      "Processing key: H1_pureshift_0\n",
      "H1_pureshift_0 shape: (0, 8)\n",
      "Processing key: COSY_0\n",
      "COSY_0 shape: (0, 10)\n",
      "Processing key: NOESY_0\n",
      "NOESY_0 shape: (0, 10)\n",
      "\n",
      "Combined NMR experiment dataframes:\n",
      "smiles: 1 rows\n",
      "molfile: 1 rows\n",
      "allAtomsInfo: 12 rows\n",
      "carbonAtomsInfo: 10 rows\n",
      "nmrAssignments: 0 rows\n",
      "c13predictions: 0 rows\n",
      "chosenSpectra: 8 rows\n",
      "C13_1D_0: 8 rows\n",
      "HSQC_0: 6 rows\n",
      "HMBC_0: 17 rows\n",
      "HSQC_CLIPCOSY_0: 6 rows\n",
      "DDEPT_CH3_ONLY_0: 1 rows\n",
      "MNOVAcalcMethod: 1 rows\n",
      "workingDirectory: 1 rows\n",
      "workingFilename: 1 rows\n",
      "simulatedAnnealing: 1 rows\n",
      "spectraWithPeaks: 8 rows\n",
      "molecule: 0 rows\n",
      "H1_1D_0: 0 rows\n",
      "DEPT135_0: 0 rows\n",
      "H1_pureshift_0: 0 rows\n",
      "COSY_0: 0 rows\n",
      "NOESY_0: 0 rows\n",
      "C13_1D: 8 rows\n",
      "HSQC: 6 rows\n",
      "HMBC: 17 rows\n",
      "HSQC_CLIPCOSY: 6 rows\n",
      "DDEPT_CH3_ONLY: 1 rows\n",
      "H1_1D: 0 rows\n",
      "DEPT135: 0 rows\n",
      "H1_pureshift: 0 rows\n",
      "COSY: 0 rows\n",
      "NOESY: 0 rows\n",
      "Removed C13_1D_0 from dataframes\n",
      "Removed HSQC_0 from dataframes\n",
      "Removed HMBC_0 from dataframes\n",
      "Removed HSQC_CLIPCOSY_0 from dataframes\n",
      "Removed DDEPT_CH3_ONLY_0 from dataframes\n",
      "Removed H1_1D_0 from dataframes\n",
      "Removed DEPT135_0 from dataframes\n",
      "Removed H1_pureshift_0 from dataframes\n",
      "Removed COSY_0 from dataframes\n",
      "Removed NOESY_0 from dataframes\n",
      "\n",
      "Final dataframes keys:\n",
      "smiles: 1 rows\n",
      "molfile: 1 rows\n",
      "allAtomsInfo: 12 rows\n",
      "carbonAtomsInfo: 10 rows\n",
      "nmrAssignments: 0 rows\n",
      "c13predictions: 0 rows\n",
      "chosenSpectra: 8 rows\n",
      "MNOVAcalcMethod: 1 rows\n",
      "workingDirectory: 1 rows\n",
      "workingFilename: 1 rows\n",
      "simulatedAnnealing: 1 rows\n",
      "spectraWithPeaks: 8 rows\n",
      "molecule: 0 rows\n",
      "C13_1D: 8 rows\n",
      "HSQC: 6 rows\n",
      "HMBC: 17 rows\n",
      "HSQC_CLIPCOSY: 6 rows\n",
      "DDEPT_CH3_ONLY: 1 rows\n",
      "H1_1D: 0 rows\n",
      "DEPT135: 0 rows\n",
      "H1_pureshift: 0 rows\n",
      "COSY: 0 rows\n",
      "NOESY: 0 rows\n",
      "self.dataframes.keys(): dict_keys(['smiles', 'molfile', 'allAtomsInfo', 'carbonAtomsInfo', 'nmrAssignments', 'c13predictions', 'chosenSpectra', 'MNOVAcalcMethod', 'workingDirectory', 'workingFilename', 'simulatedAnnealing', 'spectraWithPeaks', 'molecule', 'C13_1D', 'HSQC', 'HMBC', 'HSQC_CLIPCOSY', 'DDEPT_CH3_ONLY', 'H1_1D', 'DEPT135', 'H1_pureshift', 'COSY', 'NOESY'])\n",
      "self.dataframes.keys(): dict_keys(['smiles', 'molfile', 'allAtomsInfo', 'carbonAtomsInfo', 'nmrAssignments', 'c13predictions', 'chosenSpectra', 'MNOVAcalcMethod', 'workingDirectory', 'workingFilename', 'simulatedAnnealing', 'spectraWithPeaks', 'molecule', 'C13_1D', 'HSQC', 'HMBC', 'HSQC_CLIPCOSY', 'DDEPT_CH3_ONLY', 'H1_1D', 'DEPT135', 'H1_pureshift', 'COSY', 'NOESY'])\n",
      "*********************************************\n",
      "self.carbonSeparation 0.0025\n",
      "self.protonSeparation 0.005\n",
      "*********************************************\n",
      "f1_ppm_expts: {128.32624479741867, 129.54325065433375, 66.54001196762553, 130.54551625936355, 132.80275860424334, 166.69542467701189, 10.534988140909833, 22.13325068153482}\n",
      "f2_ppm_expts: {1.8196498173411997, 1.058401248781674, 4.308998760587829, 7.570433954647988, 7.45878562496919, 8.078545323022594}\n",
      "extra f1_ppm: set()\n",
      "extra f2_ppm: set()\n",
      "All ppm values in f1_ppm and f2_ppm are accounted for in the expts_with_peaks.\n",
      "self.exact_ppm_values: True\n"
     ]
    }
   ],
   "source": [
    "problemdata_json = NMRProblem.from_mnova_dict(json_data)\n"
   ]
  },
  {
   "cell_type": "code",
   "execution_count": 8,
   "id": "1a9b1c7d",
   "metadata": {},
   "outputs": [
    {
     "data": {
      "text/plain": [
       "['C13_1D',\n",
       " 'COSY',\n",
       " 'DDEPT_CH3_ONLY',\n",
       " 'DEPT135',\n",
       " 'H1_1D',\n",
       " 'H1_pureshift',\n",
       " 'HMBC',\n",
       " 'HSQC',\n",
       " 'HSQC_CLIPCOSY',\n",
       " 'MNOVAcalcMethod',\n",
       " 'NOESY',\n",
       " 'allAtomsInfo',\n",
       " 'c13predictions',\n",
       " 'carbonAtomsInfo',\n",
       " 'chosenSpectra',\n",
       " 'molecule',\n",
       " 'molfile',\n",
       " 'nmrAssignments',\n",
       " 'simulatedAnnealing',\n",
       " 'smiles',\n",
       " 'spectraWithPeaks',\n",
       " 'workingDirectory',\n",
       " 'workingFilename']"
      ]
     },
     "execution_count": 8,
     "metadata": {},
     "output_type": "execute_result"
    }
   ],
   "source": [
    "lll = list(problemdata_json.dataframes.keys())\n",
    "lll.sort()\n",
    "lll"
   ]
  },
  {
   "cell_type": "code",
   "execution_count": 9,
   "id": "b0fba4f2",
   "metadata": {},
   "outputs": [
    {
     "data": {
      "text/plain": [
       "[True, False, False, False, True, False, False, True, True]"
      ]
     },
     "execution_count": 9,
     "metadata": {},
     "output_type": "execute_result"
    }
   ],
   "source": [
    "[problemdata_json.dataframes[\"H1_1D\"].empty,\n",
    " problemdata_json.dataframes[\"C13_1D\"].empty,\n",
    " problemdata_json.dataframes[\"HSQC\"].empty,\n",
    " problemdata_json.dataframes[\"HMBC\"].empty,\n",
    " problemdata_json.dataframes[\"H1_pureshift\"].empty,\n",
    " problemdata_json.dataframes[\"HSQC_CLIPCOSY\"].empty,\n",
    " problemdata_json.dataframes[\"DDEPT_CH3_ONLY\"].empty,\n",
    " problemdata_json.dataframes[\"COSY\"].empty,\n",
    " problemdata_json.dataframes[\"NOESY\"].empty\n",
    " ]"
   ]
  },
  {
   "cell_type": "code",
   "execution_count": 10,
   "id": "384c1472",
   "metadata": {},
   "outputs": [
    {
     "data": {
      "text/html": [
       "<div>\n",
       "<style scoped>\n",
       "    .dataframe tbody tr th:only-of-type {\n",
       "        vertical-align: middle;\n",
       "    }\n",
       "\n",
       "    .dataframe tbody tr th {\n",
       "        vertical-align: top;\n",
       "    }\n",
       "\n",
       "    .dataframe thead th {\n",
       "        text-align: right;\n",
       "    }\n",
       "</style>\n",
       "<table border=\"1\" class=\"dataframe\">\n",
       "  <thead>\n",
       "    <tr style=\"text-align: right;\">\n",
       "      <th></th>\n",
       "      <th>chosenSpectra</th>\n",
       "      <th>filename</th>\n",
       "      <th>expt</th>\n",
       "      <th>NMRdimensions</th>\n",
       "    </tr>\n",
       "  </thead>\n",
       "  <tbody>\n",
       "    <tr>\n",
       "      <th>0</th>\n",
       "      <td>1H 1D zg 04164043.10.fid_0 SKIP</td>\n",
       "      <td>04164043.10.fid_0</td>\n",
       "      <td>SKIP</td>\n",
       "      <td>1D</td>\n",
       "    </tr>\n",
       "    <tr>\n",
       "      <th>1</th>\n",
       "      <td>1H 1D reset_psychetse.ptg 04164043.11.1.1r_1 SKIP</td>\n",
       "      <td>04164043.11.1.1r_1</td>\n",
       "      <td>SKIP</td>\n",
       "      <td>1D</td>\n",
       "    </tr>\n",
       "    <tr>\n",
       "      <th>2</th>\n",
       "      <td>13C 1D zgpg30 04164043.14.fid_2 C13_1D</td>\n",
       "      <td>04164043.14.fid_2</td>\n",
       "      <td>C13_1D</td>\n",
       "      <td>1D</td>\n",
       "    </tr>\n",
       "    <tr>\n",
       "      <th>3</th>\n",
       "      <td>[1H, 1H] COSY cosygpppqf_ptype.jaa 04164043.12...</td>\n",
       "      <td>04164043.12.ser_3</td>\n",
       "      <td>SKIP</td>\n",
       "      <td>2D</td>\n",
       "    </tr>\n",
       "    <tr>\n",
       "      <th>4</th>\n",
       "      <td>[13C, 1H] HSQC-EDITED hsqcedetgpsisp2.3.ptg 04...</td>\n",
       "      <td>04164043.15.ser_4</td>\n",
       "      <td>HSQC</td>\n",
       "      <td>2D</td>\n",
       "    </tr>\n",
       "    <tr>\n",
       "      <th>5</th>\n",
       "      <td>[13C, 1H] HMBC hmbcetgpl3nd.ptg 04164043.16.se...</td>\n",
       "      <td>04164043.16.ser_5</td>\n",
       "      <td>HMBC</td>\n",
       "      <td>2D</td>\n",
       "    </tr>\n",
       "    <tr>\n",
       "      <th>6</th>\n",
       "      <td>[13C, 1H] HSQC hsqc_clip_cosy_mc_notation.eeh ...</td>\n",
       "      <td>04164043.18.ser_6</td>\n",
       "      <td>HSQC_CLIPCOSY</td>\n",
       "      <td>2D</td>\n",
       "    </tr>\n",
       "    <tr>\n",
       "      <th>7</th>\n",
       "      <td>[13C, 1H] Unknown hcdeptedetgpzf 04164043.19.s...</td>\n",
       "      <td>04164043.19.ser_7</td>\n",
       "      <td>DDEPT_CH3_ONLY</td>\n",
       "      <td>2D</td>\n",
       "    </tr>\n",
       "  </tbody>\n",
       "</table>\n",
       "</div>"
      ],
      "text/plain": [
       "                                       chosenSpectra            filename  \\\n",
       "0                    1H 1D zg 04164043.10.fid_0 SKIP   04164043.10.fid_0   \n",
       "1  1H 1D reset_psychetse.ptg 04164043.11.1.1r_1 SKIP  04164043.11.1.1r_1   \n",
       "2             13C 1D zgpg30 04164043.14.fid_2 C13_1D   04164043.14.fid_2   \n",
       "3  [1H, 1H] COSY cosygpppqf_ptype.jaa 04164043.12...   04164043.12.ser_3   \n",
       "4  [13C, 1H] HSQC-EDITED hsqcedetgpsisp2.3.ptg 04...   04164043.15.ser_4   \n",
       "5  [13C, 1H] HMBC hmbcetgpl3nd.ptg 04164043.16.se...   04164043.16.ser_5   \n",
       "6  [13C, 1H] HSQC hsqc_clip_cosy_mc_notation.eeh ...   04164043.18.ser_6   \n",
       "7  [13C, 1H] Unknown hcdeptedetgpzf 04164043.19.s...   04164043.19.ser_7   \n",
       "\n",
       "             expt NMRdimensions  \n",
       "0            SKIP            1D  \n",
       "1            SKIP            1D  \n",
       "2          C13_1D            1D  \n",
       "3            SKIP            2D  \n",
       "4            HSQC            2D  \n",
       "5            HMBC            2D  \n",
       "6   HSQC_CLIPCOSY            2D  \n",
       "7  DDEPT_CH3_ONLY            2D  "
      ]
     },
     "execution_count": 10,
     "metadata": {},
     "output_type": "execute_result"
    }
   ],
   "source": [
    "problemdata_json.dataframes[\"chosenSpectra\"]"
   ]
  },
  {
   "cell_type": "code",
   "execution_count": 11,
   "id": "8810c161",
   "metadata": {},
   "outputs": [
    {
     "data": {
      "text/plain": [
       "array(['C13_1D', 'HSQC', 'HMBC', 'HSQC_CLIPCOSY', 'DDEPT_CH3_ONLY'],\n",
       "      dtype=object)"
      ]
     },
     "execution_count": 11,
     "metadata": {},
     "output_type": "execute_result"
    }
   ],
   "source": [
    "# drop the rows with SKIP in expt column\n",
    "expts_with_peaks = problemdata_json.dataframes[\"chosenSpectra\"][~problemdata_json.dataframes[\"chosenSpectra\"][\"expt\"].str.contains(\"SKIP\")].expt.values\n",
    "expts_with_peaks"
   ]
  },
  {
   "cell_type": "code",
   "execution_count": 61,
   "id": "77af249a",
   "metadata": {},
   "outputs": [
    {
     "name": "stdout",
     "output_type": "stream",
     "text": [
      "f1_ppm_expts: {128.32624479741867, 129.54325065433375, 66.54001196762553, 130.54551625936355, 132.80275860424334, 166.69542467701189, 10.534988140909833, 22.13325068153482}\n",
      "f2_ppm_expts: {1.8196498173411997, 1.058401248781674, 4.308998760587829, 7.570433954647988, 7.45878562496919, 8.078545323022594}\n",
      "extra f1_ppm: set()\n",
      "extra f2_ppm: set()\n",
      "All ppm values in f1_ppm and f2_ppm are accounted for in the expts_with_peaks.\n"
     ]
    },
    {
     "data": {
      "text/plain": [
       "True"
      ]
     },
     "execution_count": 61,
     "metadata": {},
     "output_type": "execute_result"
    }
   ],
   "source": [
    "def exact_ppm_values_only( problemdata_json):\n",
    "\n",
    "    expts_with_peaks = problemdata_json.dataframes[\"chosenSpectra\"][~problemdata_json.dataframes[\"chosenSpectra\"][\"expt\"].str.contains(\"SKIP\")].expt.values\n",
    "\n",
    "    if 'C13_1D' in expts_with_peaks and 'HSQC' in expts_with_peaks:\n",
    "        f1_ppm = set(problemdata_json.dataframes[\"C13_1D\"][\"ppm\"].values)\n",
    "        f2_ppm = set(problemdata_json.dataframes[\"HSQC\"][\"f2_ppm\"].values)\n",
    "\n",
    "        f2_ppm_expts = set()\n",
    "        f1_ppm_expts = set()\n",
    "\n",
    "        for expt in expts_with_peaks:\n",
    "            if expt in [\"HSQC\", \"HSQC_CLIPCOSY\", \"HMBC\", \"DDEPT_CH3_ONLY\"]:\n",
    "                # add f2_ppm values to f2_ppm_expts set\n",
    "                f2_ppm_set = set(problemdata_json.dataframes[expt][\"f2_ppm\"].values)\n",
    "                f2_ppm_expts.update(f2_ppm_set)\n",
    "                \n",
    "                f1_ppm_set = set(problemdata_json.dataframes[expt][\"f1_ppm\"].values)\n",
    "                f1_ppm_expts.update(f1_ppm_set)\n",
    "\n",
    "            elif expt in [\"COSY\"]:\n",
    "                f2_ppm_set = set(problemdata_json.dataframes[expt][\"f2_ppm\"].values)\n",
    "                f2_ppm_expts.update(f2_ppm_set)\n",
    "                f2_ppm_set = set(problemdata_json.dataframes[expt][\"f1_ppm\"].values)\n",
    "                f2_ppm_expts.update(f2_ppm_set)\n",
    "                \n",
    "\n",
    "\n",
    "        print(\"f1_ppm_expts:\", f1_ppm_expts)\n",
    "        print(\"f2_ppm_expts:\", f2_ppm_expts)\n",
    "\n",
    "        print(\"extra f1_ppm:\", f1_ppm - f1_ppm_expts)\n",
    "        print(\"extra f2_ppm:\", f2_ppm - f2_ppm_expts)\n",
    "\n",
    "        #  check if f1_ppm - f1_ppm_expts is empty\n",
    "        if f1_ppm - f1_ppm_expts and f2_ppm - f2_ppm_expts:\n",
    "            print(\"There are extra ppm values in f1_ppm and f2_ppm that are not in the expts_with_peaks.\")\n",
    "            return False\n",
    "        else:\n",
    "            print(\"All ppm values in f1_ppm and f2_ppm are accounted for in the expts_with_peaks.\")\n",
    "            return True\n",
    "    else:\n",
    "        return False\n",
    "    \n",
    "exact_ppm_values_only(problemdata_json)\n",
    "   "
   ]
  },
  {
   "cell_type": "code",
   "execution_count": 19,
   "id": "845b33f2",
   "metadata": {},
   "outputs": [
    {
     "data": {
      "text/html": [
       "<div>\n",
       "<style scoped>\n",
       "    .dataframe tbody tr th:only-of-type {\n",
       "        vertical-align: middle;\n",
       "    }\n",
       "\n",
       "    .dataframe tbody tr th {\n",
       "        vertical-align: top;\n",
       "    }\n",
       "\n",
       "    .dataframe thead th {\n",
       "        text-align: right;\n",
       "    }\n",
       "</style>\n",
       "<table border=\"1\" class=\"dataframe\">\n",
       "  <thead>\n",
       "    <tr style=\"text-align: right;\">\n",
       "      <th></th>\n",
       "      <th>ppm</th>\n",
       "      <th>intensity</th>\n",
       "      <th>signaltype</th>\n",
       "    </tr>\n",
       "  </thead>\n",
       "  <tbody>\n",
       "    <tr>\n",
       "      <th>1</th>\n",
       "      <td>166.695425</td>\n",
       "      <td>19.994448</td>\n",
       "      <td>0</td>\n",
       "    </tr>\n",
       "    <tr>\n",
       "      <th>2</th>\n",
       "      <td>132.802759</td>\n",
       "      <td>64.810880</td>\n",
       "      <td>0</td>\n",
       "    </tr>\n",
       "    <tr>\n",
       "      <th>3</th>\n",
       "      <td>130.545516</td>\n",
       "      <td>25.182103</td>\n",
       "      <td>0</td>\n",
       "    </tr>\n",
       "    <tr>\n",
       "      <th>4</th>\n",
       "      <td>129.543251</td>\n",
       "      <td>124.670495</td>\n",
       "      <td>0</td>\n",
       "    </tr>\n",
       "    <tr>\n",
       "      <th>5</th>\n",
       "      <td>128.326245</td>\n",
       "      <td>127.283891</td>\n",
       "      <td>0</td>\n",
       "    </tr>\n",
       "    <tr>\n",
       "      <th>6</th>\n",
       "      <td>66.540012</td>\n",
       "      <td>65.078485</td>\n",
       "      <td>0</td>\n",
       "    </tr>\n",
       "    <tr>\n",
       "      <th>7</th>\n",
       "      <td>22.133251</td>\n",
       "      <td>73.437556</td>\n",
       "      <td>0</td>\n",
       "    </tr>\n",
       "    <tr>\n",
       "      <th>8</th>\n",
       "      <td>10.534988</td>\n",
       "      <td>73.387856</td>\n",
       "      <td>0</td>\n",
       "    </tr>\n",
       "  </tbody>\n",
       "</table>\n",
       "</div>"
      ],
      "text/plain": [
       "          ppm   intensity  signaltype\n",
       "1  166.695425   19.994448           0\n",
       "2  132.802759   64.810880           0\n",
       "3  130.545516   25.182103           0\n",
       "4  129.543251  124.670495           0\n",
       "5  128.326245  127.283891           0\n",
       "6   66.540012   65.078485           0\n",
       "7   22.133251   73.437556           0\n",
       "8   10.534988   73.387856           0"
      ]
     },
     "execution_count": 19,
     "metadata": {},
     "output_type": "execute_result"
    }
   ],
   "source": [
    "problemdata_json.dataframes[\"C13_1D\"]"
   ]
  },
  {
   "cell_type": "code",
   "execution_count": 20,
   "id": "1c5bf0db",
   "metadata": {},
   "outputs": [
    {
     "data": {
      "text/html": [
       "<div>\n",
       "<style scoped>\n",
       "    .dataframe tbody tr th:only-of-type {\n",
       "        vertical-align: middle;\n",
       "    }\n",
       "\n",
       "    .dataframe tbody tr th {\n",
       "        vertical-align: top;\n",
       "    }\n",
       "\n",
       "    .dataframe thead th {\n",
       "        text-align: right;\n",
       "    }\n",
       "</style>\n",
       "<table border=\"1\" class=\"dataframe\">\n",
       "  <thead>\n",
       "    <tr style=\"text-align: right;\">\n",
       "      <th></th>\n",
       "      <th>f2_ppm</th>\n",
       "      <th>f1_ppm</th>\n",
       "      <th>intensity</th>\n",
       "      <th>signaltype</th>\n",
       "      <th>Annotation</th>\n",
       "    </tr>\n",
       "  </thead>\n",
       "  <tbody>\n",
       "    <tr>\n",
       "      <th>1</th>\n",
       "      <td>8.078545</td>\n",
       "      <td>129.543251</td>\n",
       "      <td>4348.116604</td>\n",
       "      <td>0</td>\n",
       "      <td></td>\n",
       "    </tr>\n",
       "    <tr>\n",
       "      <th>2</th>\n",
       "      <td>7.570434</td>\n",
       "      <td>132.802759</td>\n",
       "      <td>2165.756527</td>\n",
       "      <td>0</td>\n",
       "      <td></td>\n",
       "    </tr>\n",
       "    <tr>\n",
       "      <th>3</th>\n",
       "      <td>7.458786</td>\n",
       "      <td>128.326245</td>\n",
       "      <td>4241.996319</td>\n",
       "      <td>0</td>\n",
       "      <td></td>\n",
       "    </tr>\n",
       "    <tr>\n",
       "      <th>4</th>\n",
       "      <td>4.308999</td>\n",
       "      <td>66.540012</td>\n",
       "      <td>-3490.936963</td>\n",
       "      <td>0</td>\n",
       "      <td></td>\n",
       "    </tr>\n",
       "    <tr>\n",
       "      <th>5</th>\n",
       "      <td>1.819650</td>\n",
       "      <td>22.133251</td>\n",
       "      <td>-2968.082728</td>\n",
       "      <td>0</td>\n",
       "      <td></td>\n",
       "    </tr>\n",
       "    <tr>\n",
       "      <th>6</th>\n",
       "      <td>1.058401</td>\n",
       "      <td>10.534988</td>\n",
       "      <td>3745.903110</td>\n",
       "      <td>0</td>\n",
       "      <td></td>\n",
       "    </tr>\n",
       "  </tbody>\n",
       "</table>\n",
       "</div>"
      ],
      "text/plain": [
       "     f2_ppm      f1_ppm    intensity  signaltype Annotation\n",
       "1  8.078545  129.543251  4348.116604           0           \n",
       "2  7.570434  132.802759  2165.756527           0           \n",
       "3  7.458786  128.326245  4241.996319           0           \n",
       "4  4.308999   66.540012 -3490.936963           0           \n",
       "5  1.819650   22.133251 -2968.082728           0           \n",
       "6  1.058401   10.534988  3745.903110           0           "
      ]
     },
     "execution_count": 20,
     "metadata": {},
     "output_type": "execute_result"
    }
   ],
   "source": [
    "problemdata_json.dataframes[\"HSQC\" ]"
   ]
  },
  {
   "cell_type": "code",
   "execution_count": 21,
   "id": "d1b13b46",
   "metadata": {},
   "outputs": [
    {
     "data": {
      "text/html": [
       "<div>\n",
       "<style scoped>\n",
       "    .dataframe tbody tr th:only-of-type {\n",
       "        vertical-align: middle;\n",
       "    }\n",
       "\n",
       "    .dataframe tbody tr th {\n",
       "        vertical-align: top;\n",
       "    }\n",
       "\n",
       "    .dataframe thead th {\n",
       "        text-align: right;\n",
       "    }\n",
       "</style>\n",
       "<table border=\"1\" class=\"dataframe\">\n",
       "  <thead>\n",
       "    <tr style=\"text-align: right;\">\n",
       "      <th></th>\n",
       "      <th>Name</th>\n",
       "      <th>ppm</th>\n",
       "      <th>range</th>\n",
       "      <th>numProtons</th>\n",
       "      <th>integral</th>\n",
       "      <th>jCouplingClass</th>\n",
       "      <th>jCouplingVals</th>\n",
       "      <th>Method</th>\n",
       "      <th>signaltype</th>\n",
       "    </tr>\n",
       "  </thead>\n",
       "  <tbody>\n",
       "  </tbody>\n",
       "</table>\n",
       "</div>"
      ],
      "text/plain": [
       "Empty DataFrame\n",
       "Columns: [Name, ppm, range, numProtons, integral, jCouplingClass, jCouplingVals, Method, signaltype]\n",
       "Index: []"
      ]
     },
     "execution_count": 21,
     "metadata": {},
     "output_type": "execute_result"
    }
   ],
   "source": [
    "problemdata_json.dataframes[\"H1_1D\"]"
   ]
  },
  {
   "cell_type": "code",
   "execution_count": 22,
   "id": "905028b8",
   "metadata": {},
   "outputs": [
    {
     "data": {
      "text/html": [
       "<div>\n",
       "<style scoped>\n",
       "    .dataframe tbody tr th:only-of-type {\n",
       "        vertical-align: middle;\n",
       "    }\n",
       "\n",
       "    .dataframe tbody tr th {\n",
       "        vertical-align: top;\n",
       "    }\n",
       "\n",
       "    .dataframe thead th {\n",
       "        text-align: right;\n",
       "    }\n",
       "</style>\n",
       "<table border=\"1\" class=\"dataframe\">\n",
       "  <thead>\n",
       "    <tr style=\"text-align: right;\">\n",
       "      <th></th>\n",
       "      <th>f2_ppm</th>\n",
       "      <th>f1_ppm</th>\n",
       "      <th>intensity</th>\n",
       "      <th>signaltype</th>\n",
       "      <th>Annotation</th>\n",
       "    </tr>\n",
       "  </thead>\n",
       "  <tbody>\n",
       "    <tr>\n",
       "      <th>1</th>\n",
       "      <td>8.078545</td>\n",
       "      <td>166.695425</td>\n",
       "      <td>6.353929</td>\n",
       "      <td>0</td>\n",
       "      <td></td>\n",
       "    </tr>\n",
       "    <tr>\n",
       "      <th>2</th>\n",
       "      <td>8.078545</td>\n",
       "      <td>129.543251</td>\n",
       "      <td>13.669923</td>\n",
       "      <td>0</td>\n",
       "      <td></td>\n",
       "    </tr>\n",
       "    <tr>\n",
       "      <th>3</th>\n",
       "      <td>8.078545</td>\n",
       "      <td>128.326245</td>\n",
       "      <td>0.133739</td>\n",
       "      <td>0</td>\n",
       "      <td></td>\n",
       "    </tr>\n",
       "    <tr>\n",
       "      <th>4</th>\n",
       "      <td>8.078545</td>\n",
       "      <td>132.802759</td>\n",
       "      <td>10.057786</td>\n",
       "      <td>0</td>\n",
       "      <td></td>\n",
       "    </tr>\n",
       "    <tr>\n",
       "      <th>5</th>\n",
       "      <td>7.570434</td>\n",
       "      <td>129.543251</td>\n",
       "      <td>15.929006</td>\n",
       "      <td>0</td>\n",
       "      <td></td>\n",
       "    </tr>\n",
       "    <tr>\n",
       "      <th>6</th>\n",
       "      <td>7.570434</td>\n",
       "      <td>128.326245</td>\n",
       "      <td>6.843149</td>\n",
       "      <td>0</td>\n",
       "      <td></td>\n",
       "    </tr>\n",
       "    <tr>\n",
       "      <th>7</th>\n",
       "      <td>7.458786</td>\n",
       "      <td>132.802759</td>\n",
       "      <td>11.806840</td>\n",
       "      <td>0</td>\n",
       "      <td></td>\n",
       "    </tr>\n",
       "    <tr>\n",
       "      <th>8</th>\n",
       "      <td>7.458786</td>\n",
       "      <td>130.545516</td>\n",
       "      <td>13.937969</td>\n",
       "      <td>0</td>\n",
       "      <td></td>\n",
       "    </tr>\n",
       "    <tr>\n",
       "      <th>9</th>\n",
       "      <td>7.458786</td>\n",
       "      <td>129.543251</td>\n",
       "      <td>10.928381</td>\n",
       "      <td>0</td>\n",
       "      <td></td>\n",
       "    </tr>\n",
       "    <tr>\n",
       "      <th>10</th>\n",
       "      <td>7.458786</td>\n",
       "      <td>128.326245</td>\n",
       "      <td>6.742388</td>\n",
       "      <td>0</td>\n",
       "      <td></td>\n",
       "    </tr>\n",
       "    <tr>\n",
       "      <th>11</th>\n",
       "      <td>4.308999</td>\n",
       "      <td>166.695425</td>\n",
       "      <td>44.931171</td>\n",
       "      <td>0</td>\n",
       "      <td></td>\n",
       "    </tr>\n",
       "    <tr>\n",
       "      <th>12</th>\n",
       "      <td>4.308999</td>\n",
       "      <td>22.133251</td>\n",
       "      <td>41.532883</td>\n",
       "      <td>0</td>\n",
       "      <td></td>\n",
       "    </tr>\n",
       "    <tr>\n",
       "      <th>13</th>\n",
       "      <td>4.308999</td>\n",
       "      <td>10.534988</td>\n",
       "      <td>38.587563</td>\n",
       "      <td>0</td>\n",
       "      <td></td>\n",
       "    </tr>\n",
       "    <tr>\n",
       "      <th>14</th>\n",
       "      <td>1.819650</td>\n",
       "      <td>66.540012</td>\n",
       "      <td>12.147125</td>\n",
       "      <td>0</td>\n",
       "      <td></td>\n",
       "    </tr>\n",
       "    <tr>\n",
       "      <th>15</th>\n",
       "      <td>1.819650</td>\n",
       "      <td>10.534988</td>\n",
       "      <td>9.756729</td>\n",
       "      <td>0</td>\n",
       "      <td></td>\n",
       "    </tr>\n",
       "    <tr>\n",
       "      <th>16</th>\n",
       "      <td>1.058401</td>\n",
       "      <td>66.540012</td>\n",
       "      <td>35.504025</td>\n",
       "      <td>0</td>\n",
       "      <td></td>\n",
       "    </tr>\n",
       "    <tr>\n",
       "      <th>17</th>\n",
       "      <td>1.058401</td>\n",
       "      <td>22.133251</td>\n",
       "      <td>66.141502</td>\n",
       "      <td>0</td>\n",
       "      <td></td>\n",
       "    </tr>\n",
       "  </tbody>\n",
       "</table>\n",
       "</div>"
      ],
      "text/plain": [
       "      f2_ppm      f1_ppm  intensity  signaltype Annotation\n",
       "1   8.078545  166.695425   6.353929           0           \n",
       "2   8.078545  129.543251  13.669923           0           \n",
       "3   8.078545  128.326245   0.133739           0           \n",
       "4   8.078545  132.802759  10.057786           0           \n",
       "5   7.570434  129.543251  15.929006           0           \n",
       "6   7.570434  128.326245   6.843149           0           \n",
       "7   7.458786  132.802759  11.806840           0           \n",
       "8   7.458786  130.545516  13.937969           0           \n",
       "9   7.458786  129.543251  10.928381           0           \n",
       "10  7.458786  128.326245   6.742388           0           \n",
       "11  4.308999  166.695425  44.931171           0           \n",
       "12  4.308999   22.133251  41.532883           0           \n",
       "13  4.308999   10.534988  38.587563           0           \n",
       "14  1.819650   66.540012  12.147125           0           \n",
       "15  1.819650   10.534988   9.756729           0           \n",
       "16  1.058401   66.540012  35.504025           0           \n",
       "17  1.058401   22.133251  66.141502           0           "
      ]
     },
     "execution_count": 22,
     "metadata": {},
     "output_type": "execute_result"
    }
   ],
   "source": [
    "problemdata_json.dataframes[\"HMBC\"]"
   ]
  },
  {
   "cell_type": "code",
   "execution_count": 23,
   "id": "a08b528e",
   "metadata": {},
   "outputs": [
    {
     "data": {
      "text/html": [
       "<div>\n",
       "<style scoped>\n",
       "    .dataframe tbody tr th:only-of-type {\n",
       "        vertical-align: middle;\n",
       "    }\n",
       "\n",
       "    .dataframe tbody tr th {\n",
       "        vertical-align: top;\n",
       "    }\n",
       "\n",
       "    .dataframe thead th {\n",
       "        text-align: right;\n",
       "    }\n",
       "</style>\n",
       "<table border=\"1\" class=\"dataframe\">\n",
       "  <thead>\n",
       "    <tr style=\"text-align: right;\">\n",
       "      <th></th>\n",
       "      <th>f2_ppm</th>\n",
       "      <th>f1_ppm</th>\n",
       "      <th>intensity</th>\n",
       "      <th>signaltype</th>\n",
       "      <th>Annotation</th>\n",
       "    </tr>\n",
       "  </thead>\n",
       "  <tbody>\n",
       "    <tr>\n",
       "      <th>1</th>\n",
       "      <td>1.058401</td>\n",
       "      <td>10.534988</td>\n",
       "      <td>40.283642</td>\n",
       "      <td>0</td>\n",
       "      <td></td>\n",
       "    </tr>\n",
       "  </tbody>\n",
       "</table>\n",
       "</div>"
      ],
      "text/plain": [
       "     f2_ppm     f1_ppm  intensity  signaltype Annotation\n",
       "1  1.058401  10.534988  40.283642           0           "
      ]
     },
     "execution_count": 23,
     "metadata": {},
     "output_type": "execute_result"
    }
   ],
   "source": [
    "problemdata_json.dataframes[\"DDEPT_CH3_ONLY\"]"
   ]
  },
  {
   "cell_type": "code",
   "execution_count": 24,
   "id": "6bfd660c",
   "metadata": {},
   "outputs": [
    {
     "data": {
      "text/html": [
       "<div>\n",
       "<style scoped>\n",
       "    .dataframe tbody tr th:only-of-type {\n",
       "        vertical-align: middle;\n",
       "    }\n",
       "\n",
       "    .dataframe tbody tr th {\n",
       "        vertical-align: top;\n",
       "    }\n",
       "\n",
       "    .dataframe thead th {\n",
       "        text-align: right;\n",
       "    }\n",
       "</style>\n",
       "<table border=\"1\" class=\"dataframe\">\n",
       "  <thead>\n",
       "    <tr style=\"text-align: right;\">\n",
       "      <th></th>\n",
       "      <th>f2_ppm</th>\n",
       "      <th>f1_ppm</th>\n",
       "      <th>intensity</th>\n",
       "      <th>signaltype</th>\n",
       "      <th>Annotation</th>\n",
       "    </tr>\n",
       "  </thead>\n",
       "  <tbody>\n",
       "    <tr>\n",
       "      <th>1</th>\n",
       "      <td>7.570434</td>\n",
       "      <td>128.326245</td>\n",
       "      <td>-216.472763</td>\n",
       "      <td>0</td>\n",
       "      <td></td>\n",
       "    </tr>\n",
       "    <tr>\n",
       "      <th>2</th>\n",
       "      <td>7.458786</td>\n",
       "      <td>132.802759</td>\n",
       "      <td>-75.264336</td>\n",
       "      <td>0</td>\n",
       "      <td></td>\n",
       "    </tr>\n",
       "    <tr>\n",
       "      <th>3</th>\n",
       "      <td>7.458786</td>\n",
       "      <td>129.543251</td>\n",
       "      <td>-24.668022</td>\n",
       "      <td>0</td>\n",
       "      <td></td>\n",
       "    </tr>\n",
       "    <tr>\n",
       "      <th>4</th>\n",
       "      <td>4.308999</td>\n",
       "      <td>22.133251</td>\n",
       "      <td>-48.614876</td>\n",
       "      <td>0</td>\n",
       "      <td></td>\n",
       "    </tr>\n",
       "    <tr>\n",
       "      <th>5</th>\n",
       "      <td>1.819650</td>\n",
       "      <td>10.534988</td>\n",
       "      <td>-63.202045</td>\n",
       "      <td>0</td>\n",
       "      <td></td>\n",
       "    </tr>\n",
       "    <tr>\n",
       "      <th>6</th>\n",
       "      <td>1.058401</td>\n",
       "      <td>22.133251</td>\n",
       "      <td>-70.584999</td>\n",
       "      <td>0</td>\n",
       "      <td></td>\n",
       "    </tr>\n",
       "  </tbody>\n",
       "</table>\n",
       "</div>"
      ],
      "text/plain": [
       "     f2_ppm      f1_ppm   intensity  signaltype Annotation\n",
       "1  7.570434  128.326245 -216.472763           0           \n",
       "2  7.458786  132.802759  -75.264336           0           \n",
       "3  7.458786  129.543251  -24.668022           0           \n",
       "4  4.308999   22.133251  -48.614876           0           \n",
       "5  1.819650   10.534988  -63.202045           0           \n",
       "6  1.058401   22.133251  -70.584999           0           "
      ]
     },
     "execution_count": 24,
     "metadata": {},
     "output_type": "execute_result"
    }
   ],
   "source": [
    "problemdata_json.dataframes[\"HSQC_CLIPCOSY\"]"
   ]
  },
  {
   "cell_type": "code",
   "execution_count": 25,
   "id": "101f6605",
   "metadata": {},
   "outputs": [],
   "source": [
    "f1_ppm = set(problemdata_json.dataframes[\"C13_1D\"][\"ppm\"].values)\n",
    "f2_ppm = set(problemdata_json.dataframes[\"HSQC\"][\"f2_ppm\"].values)"
   ]
  },
  {
   "cell_type": "code",
   "execution_count": 26,
   "id": "78e13c3b",
   "metadata": {},
   "outputs": [
    {
     "data": {
      "text/plain": [
       "({1.058401248781674,\n",
       "  1.8196498173411997,\n",
       "  4.308998760587829,\n",
       "  7.45878562496919,\n",
       "  7.570433954647988,\n",
       "  8.078545323022594},\n",
       " ' ',\n",
       " {10.534988140909833,\n",
       "  22.13325068153482,\n",
       "  66.54001196762553,\n",
       "  128.32624479741867,\n",
       "  129.54325065433375,\n",
       "  130.54551625936355,\n",
       "  132.80275860424334,\n",
       "  166.69542467701189})"
      ]
     },
     "execution_count": 26,
     "metadata": {},
     "output_type": "execute_result"
    }
   ],
   "source": [
    "f2_ppm, \" \", f1_ppm"
   ]
  },
  {
   "cell_type": "code",
   "execution_count": 27,
   "id": "bce3e617",
   "metadata": {},
   "outputs": [],
   "source": [
    "hmbc_f2_ppm = set(problemdata_json.dataframes[\"HMBC\"][\"f2_ppm\"].values)\n",
    "hmbc_f1_ppm = set(problemdata_json.dataframes[\"HMBC\"][\"f1_ppm\"].values)\n"
   ]
  },
  {
   "cell_type": "code",
   "execution_count": 28,
   "id": "2f2b5c6e",
   "metadata": {},
   "outputs": [
    {
     "data": {
      "text/plain": [
       "{1.058401248781674,\n",
       " 1.8196498173411997,\n",
       " 4.308998760587829,\n",
       " 7.45878562496919,\n",
       " 7.570433954647988,\n",
       " 8.078545323022594}"
      ]
     },
     "execution_count": 28,
     "metadata": {},
     "output_type": "execute_result"
    }
   ],
   "source": [
    "hmbc_f2_ppm"
   ]
  },
  {
   "cell_type": "code",
   "execution_count": 29,
   "id": "783cf650",
   "metadata": {},
   "outputs": [
    {
     "data": {
      "text/plain": [
       "{10.534988140909833,\n",
       " 22.13325068153482,\n",
       " 66.54001196762553,\n",
       " 128.32624479741867,\n",
       " 129.54325065433375,\n",
       " 130.54551625936355,\n",
       " 132.80275860424334,\n",
       " 166.69542467701189}"
      ]
     },
     "execution_count": 29,
     "metadata": {},
     "output_type": "execute_result"
    }
   ],
   "source": [
    "hmbc_f1_ppm"
   ]
  },
  {
   "cell_type": "code",
   "execution_count": 30,
   "id": "0e84d99f",
   "metadata": {},
   "outputs": [
    {
     "data": {
      "text/plain": [
       "set()"
      ]
     },
     "execution_count": 30,
     "metadata": {},
     "output_type": "execute_result"
    }
   ],
   "source": [
    "# set of hmbc_f2_ppm - f2_ppm\n",
    "hmbc_f2_ppm - f2_ppm"
   ]
  },
  {
   "cell_type": "code",
   "execution_count": 31,
   "id": "63b1cc44",
   "metadata": {},
   "outputs": [
    {
     "data": {
      "text/plain": [
       "set()"
      ]
     },
     "execution_count": 31,
     "metadata": {},
     "output_type": "execute_result"
    }
   ],
   "source": [
    "hmbc_f1_ppm - f1_ppm"
   ]
  },
  {
   "cell_type": "code",
   "execution_count": 32,
   "id": "bb6111d3",
   "metadata": {},
   "outputs": [
    {
     "data": {
      "text/plain": [
       "{1.058401248781674}"
      ]
     },
     "execution_count": 32,
     "metadata": {},
     "output_type": "execute_result"
    }
   ],
   "source": [
    "set(problemdata_json.dataframes[\"DDEPT_CH3_ONLY\"][\"f2_ppm\"].values)"
   ]
  },
  {
   "cell_type": "code",
   "execution_count": 33,
   "id": "12429a37",
   "metadata": {},
   "outputs": [
    {
     "data": {
      "text/plain": [
       "set()"
      ]
     },
     "execution_count": 33,
     "metadata": {},
     "output_type": "execute_result"
    }
   ],
   "source": [
    "CH3_only_f2_ppm = set(problemdata_json.dataframes[\"DDEPT_CH3_ONLY\"][\"f2_ppm\"].values) - f2_ppm\n",
    "CH3_only_f2_ppm"
   ]
  },
  {
   "cell_type": "code",
   "execution_count": 34,
   "id": "839b0e57",
   "metadata": {},
   "outputs": [
    {
     "data": {
      "text/plain": [
       "{10.534988140909833}"
      ]
     },
     "execution_count": 34,
     "metadata": {},
     "output_type": "execute_result"
    }
   ],
   "source": [
    "set(problemdata_json.dataframes[\"DDEPT_CH3_ONLY\"][\"f1_ppm\"].values)"
   ]
  },
  {
   "cell_type": "code",
   "execution_count": 35,
   "id": "6e1725c7",
   "metadata": {},
   "outputs": [
    {
     "data": {
      "text/plain": [
       "set()"
      ]
     },
     "execution_count": 35,
     "metadata": {},
     "output_type": "execute_result"
    }
   ],
   "source": [
    "CH3_only_f1_ppm = set(problemdata_json.dataframes[\"DDEPT_CH3_ONLY\"][\"f1_ppm\"].values) - f1_ppm\n",
    "CH3_only_f1_ppm"
   ]
  },
  {
   "cell_type": "code",
   "execution_count": 36,
   "id": "2d394ae5",
   "metadata": {},
   "outputs": [
    {
     "data": {
      "text/html": [
       "<div>\n",
       "<style scoped>\n",
       "    .dataframe tbody tr th:only-of-type {\n",
       "        vertical-align: middle;\n",
       "    }\n",
       "\n",
       "    .dataframe tbody tr th {\n",
       "        vertical-align: top;\n",
       "    }\n",
       "\n",
       "    .dataframe thead th {\n",
       "        text-align: right;\n",
       "    }\n",
       "</style>\n",
       "<table border=\"1\" class=\"dataframe\">\n",
       "  <thead>\n",
       "    <tr style=\"text-align: right;\">\n",
       "      <th></th>\n",
       "      <th>f2_ppm</th>\n",
       "      <th>f1_ppm</th>\n",
       "      <th>intensity</th>\n",
       "      <th>signaltype</th>\n",
       "      <th>Annotation</th>\n",
       "    </tr>\n",
       "  </thead>\n",
       "  <tbody>\n",
       "    <tr>\n",
       "      <th>1</th>\n",
       "      <td>1.058401</td>\n",
       "      <td>10.534988</td>\n",
       "      <td>40.283642</td>\n",
       "      <td>0</td>\n",
       "      <td></td>\n",
       "    </tr>\n",
       "  </tbody>\n",
       "</table>\n",
       "</div>"
      ],
      "text/plain": [
       "     f2_ppm     f1_ppm  intensity  signaltype Annotation\n",
       "1  1.058401  10.534988  40.283642           0           "
      ]
     },
     "execution_count": 36,
     "metadata": {},
     "output_type": "execute_result"
    }
   ],
   "source": [
    "problemdata_json.dataframes[\"DDEPT_CH3_ONLY\"]"
   ]
  },
  {
   "cell_type": "code",
   "execution_count": 37,
   "id": "bd4c40b3",
   "metadata": {},
   "outputs": [
    {
     "data": {
      "text/html": [
       "<div>\n",
       "<style scoped>\n",
       "    .dataframe tbody tr th:only-of-type {\n",
       "        vertical-align: middle;\n",
       "    }\n",
       "\n",
       "    .dataframe tbody tr th {\n",
       "        vertical-align: top;\n",
       "    }\n",
       "\n",
       "    .dataframe thead th {\n",
       "        text-align: right;\n",
       "    }\n",
       "</style>\n",
       "<table border=\"1\" class=\"dataframe\">\n",
       "  <thead>\n",
       "    <tr style=\"text-align: right;\">\n",
       "      <th></th>\n",
       "      <th>f2_ppm</th>\n",
       "      <th>f1_ppm</th>\n",
       "      <th>intensity</th>\n",
       "      <th>signaltype</th>\n",
       "      <th>Annotation</th>\n",
       "    </tr>\n",
       "  </thead>\n",
       "  <tbody>\n",
       "    <tr>\n",
       "      <th>1</th>\n",
       "      <td>7.570434</td>\n",
       "      <td>128.326245</td>\n",
       "      <td>-216.472763</td>\n",
       "      <td>0</td>\n",
       "      <td></td>\n",
       "    </tr>\n",
       "    <tr>\n",
       "      <th>2</th>\n",
       "      <td>7.458786</td>\n",
       "      <td>132.802759</td>\n",
       "      <td>-75.264336</td>\n",
       "      <td>0</td>\n",
       "      <td></td>\n",
       "    </tr>\n",
       "    <tr>\n",
       "      <th>3</th>\n",
       "      <td>7.458786</td>\n",
       "      <td>129.543251</td>\n",
       "      <td>-24.668022</td>\n",
       "      <td>0</td>\n",
       "      <td></td>\n",
       "    </tr>\n",
       "    <tr>\n",
       "      <th>4</th>\n",
       "      <td>4.308999</td>\n",
       "      <td>22.133251</td>\n",
       "      <td>-48.614876</td>\n",
       "      <td>0</td>\n",
       "      <td></td>\n",
       "    </tr>\n",
       "    <tr>\n",
       "      <th>5</th>\n",
       "      <td>1.819650</td>\n",
       "      <td>10.534988</td>\n",
       "      <td>-63.202045</td>\n",
       "      <td>0</td>\n",
       "      <td></td>\n",
       "    </tr>\n",
       "    <tr>\n",
       "      <th>6</th>\n",
       "      <td>1.058401</td>\n",
       "      <td>22.133251</td>\n",
       "      <td>-70.584999</td>\n",
       "      <td>0</td>\n",
       "      <td></td>\n",
       "    </tr>\n",
       "  </tbody>\n",
       "</table>\n",
       "</div>"
      ],
      "text/plain": [
       "     f2_ppm      f1_ppm   intensity  signaltype Annotation\n",
       "1  7.570434  128.326245 -216.472763           0           \n",
       "2  7.458786  132.802759  -75.264336           0           \n",
       "3  7.458786  129.543251  -24.668022           0           \n",
       "4  4.308999   22.133251  -48.614876           0           \n",
       "5  1.819650   10.534988  -63.202045           0           \n",
       "6  1.058401   22.133251  -70.584999           0           "
      ]
     },
     "execution_count": 37,
     "metadata": {},
     "output_type": "execute_result"
    }
   ],
   "source": [
    "problemdata_json.dataframes[\"HSQC_CLIPCOSY\"]"
   ]
  },
  {
   "cell_type": "code",
   "execution_count": 38,
   "id": "7563002c",
   "metadata": {},
   "outputs": [
    {
     "data": {
      "text/plain": [
       "{10.534988140909833,\n",
       " 22.13325068153482,\n",
       " 128.32624479741867,\n",
       " 129.54325065433375,\n",
       " 132.80275860424334}"
      ]
     },
     "execution_count": 38,
     "metadata": {},
     "output_type": "execute_result"
    }
   ],
   "source": [
    "set(problemdata_json.dataframes[\"HSQC_CLIPCOSY\"][\"f1_ppm\"].values)"
   ]
  },
  {
   "cell_type": "code",
   "execution_count": 39,
   "id": "0b120b5b",
   "metadata": {},
   "outputs": [
    {
     "data": {
      "text/plain": [
       "{1.058401248781674,\n",
       " 1.8196498173411997,\n",
       " 4.308998760587829,\n",
       " 7.45878562496919,\n",
       " 7.570433954647988}"
      ]
     },
     "execution_count": 39,
     "metadata": {},
     "output_type": "execute_result"
    }
   ],
   "source": [
    "set(problemdata_json.dataframes[\"HSQC_CLIPCOSY\"][\"f2_ppm\"].values)"
   ]
  },
  {
   "cell_type": "code",
   "execution_count": 40,
   "id": "25c8e5d6",
   "metadata": {},
   "outputs": [
    {
     "data": {
      "text/plain": [
       "set()"
      ]
     },
     "execution_count": 40,
     "metadata": {},
     "output_type": "execute_result"
    }
   ],
   "source": [
    "set(problemdata_json.dataframes[\"HSQC_CLIPCOSY\"][\"f1_ppm\"].values) - f1_ppm"
   ]
  },
  {
   "cell_type": "code",
   "execution_count": 41,
   "id": "40aa059f",
   "metadata": {},
   "outputs": [
    {
     "data": {
      "text/plain": [
       "set()"
      ]
     },
     "execution_count": 41,
     "metadata": {},
     "output_type": "execute_result"
    }
   ],
   "source": [
    "set(problemdata_json.dataframes[\"HSQC_CLIPCOSY\"][\"f2_ppm\"].values) - f2_ppm"
   ]
  },
  {
   "cell_type": "code",
   "execution_count": null,
   "id": "2cb38912",
   "metadata": {},
   "outputs": [],
   "source": []
  },
  {
   "cell_type": "code",
   "execution_count": null,
   "id": "37829fdf",
   "metadata": {},
   "outputs": [],
   "source": []
  }
 ],
 "metadata": {
  "kernelspec": {
   "display_name": "rdkit37",
   "language": "python",
   "name": "python3"
  },
  "language_info": {
   "codemirror_mode": {
    "name": "ipython",
    "version": 3
   },
   "file_extension": ".py",
   "mimetype": "text/x-python",
   "name": "python",
   "nbconvert_exporter": "python",
   "pygments_lexer": "ipython3",
   "version": "3.7.16"
  }
 },
 "nbformat": 4,
 "nbformat_minor": 5
}
