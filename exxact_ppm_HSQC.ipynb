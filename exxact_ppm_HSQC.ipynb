{
 "cells": [
  {
   "cell_type": "code",
   "execution_count": 1,
   "id": "66bcd81b",
   "metadata": {},
   "outputs": [],
   "source": [
    "%load_ext autoreload\n",
    "%autoreload 2"
   ]
  },
  {
   "cell_type": "code",
   "execution_count": 2,
   "id": "e4a6b693",
   "metadata": {},
   "outputs": [
    {
     "name": "stdout",
     "output_type": "stream",
     "text": [
      "1000\n",
      "600\n",
      "1000\n",
      "600\n"
     ]
    }
   ],
   "source": [
    "import os\n",
    "import platform\n",
    "import subprocess\n",
    "import json\n",
    "from io import StringIO\n",
    "import numpy as np\n",
    "import pandas as pd\n",
    "from pathlib import Path\n",
    "\n",
    "\n",
    "from html_from_assignments import NMRProblem\n",
    "import jsonUtils\n",
    "\n",
    "import nmrsolution\n",
    "from globals import svgDimensions\n",
    "\n",
    "import rdkit\n",
    "from rdkit import Chem\n",
    "from rdkit.Chem import AllChem\n",
    "from rdkit.Chem import Draw"
   ]
  },
  {
   "cell_type": "code",
   "execution_count": 3,
   "id": "a7bee9f8",
   "metadata": {},
   "outputs": [],
   "source": [
    "%matplotlib inline"
   ]
  },
  {
   "cell_type": "code",
   "execution_count": 20,
   "id": "bb3d061e",
   "metadata": {},
   "outputs": [],
   "source": [
    "if platform.system() == \"Darwin\":\n",
    "\n",
    "    fn_json = Path(\"/Users/vsmw51/Downloads/4Eric/camphor_AMK/camphor_AMK_assignments_mresnova.json\")\n",
    "    fn_json = Path(\"/Users/vsmw51/Downloads/4Eric/caryophyllene/caryophyllene_assignments_mresnova.json\")\n",
    "    fn_json = Path(\"/Users/vsmw51/OneDrive - Durham University/projects/programming/2025/python/awh/bruker_data_sets/E72507_04164043_propyl_benzoate/E72507_04164043_propyl_benzoate_assignments_mresnova.json\")\n",
    "    # maslonic_acid\n",
    "    fn_json = Path(\"/Users/vsmw51/Downloads/4Eric/maslinic_acid/maslinic_acid_assignments_mresnova.json\")\n",
    "elif platform.system() == \"Windows\":\n",
    "    fn_json = Path(\"C:/Users/vsmw51/Downloads/4Eric/camphor_AMK/camphor_AMK_assignments_mresnova.json\")\n",
    "    fn_json = Path(\"C:/Users/vsmw51/Downloads/4Eric/caryophyllene/caryophyllene_assignments_mresnova.json\")\n",
    "    fn_json = Path(\"C:/Users/vsmw51/OneDrive - Durham University/projects/programming/2025/python/awh/bruker_data_sets/E72507_04164043_propyl_benzoate/E72507_04164043_propyl_benzoate_assignments_mresnova.json\")  \n",
    "    "
   ]
  },
  {
   "cell_type": "code",
   "execution_count": 21,
   "id": "d528ddd0",
   "metadata": {},
   "outputs": [],
   "source": [
    "with open(fn_json, 'r') as f:\n",
    "    json_data = json.load(f)"
   ]
  },
  {
   "cell_type": "code",
   "execution_count": 22,
   "id": "e719f03d",
   "metadata": {},
   "outputs": [
    {
     "name": "stdout",
     "output_type": "stream",
     "text": [
      "\n",
      "from_mnova_dict(cls,json_data: dict):\n",
      "\n",
      "\n",
      "read_in_mesrenova_json(fn: Path) -> dict:\n",
      "\n",
      "\n",
      "return_nonempty_mnova_datasets(data: dict) -> dict:\n",
      "\n",
      "\n",
      "create_dataframes_from_mresnova_json(data: dict) -> dict:\n",
      "\n",
      "***** EEH ****\n",
      "Processing key: smiles\n",
      "k1: smiles\n",
      "Processing key: molfile\n",
      "k1: molfile\n",
      "Processing key: hostname\n",
      "k1: hostname\n",
      "Skipping hostname\n",
      "Processing key: allAtomsInfo\n",
      "k1: allAtomsInfo\n",
      "Processing key: carbonAtomsInfo\n",
      "k1: carbonAtomsInfo\n",
      "Processing key: nmrAssignments\n",
      "k1: nmrAssignments\n",
      "Processing key: c13predictions\n",
      "k1: c13predictions\n",
      "Processing key: maslinic_acid.1.fid_1\n",
      "k1: maslinic_acid.1.fid\n",
      "Skipping maslinic_acid.1.fid\n",
      "Processing key: chosenSpectra\n",
      "k1: chosenSpectra\n",
      "Processing key: C13_1D_0\n",
      "k1: C13_1D\n",
      "\n",
      "get_1d_dataframe_from_json C13_1D_0:\n",
      "\n",
      "            ppm    Intensity  Type\n",
      "0   178.628836  3558.518579     0\n",
      "1   143.921463  3268.562162     0\n",
      "2   121.446520  3462.172559     0\n",
      "3    67.122786  4185.330940     0\n",
      "4    82.207586  4379.579809     0\n",
      "5    54.740826  4749.458855     0\n",
      "6    46.849134  3225.037572     0\n",
      "7    47.063099  4328.384723     0\n",
      "8    45.668588  3308.529669     0\n",
      "9    45.443194  5412.017738     0\n",
      "10   41.345772  5493.547892     0\n",
      "11   40.773929  4216.823141     0\n",
      "12   38.906063  5048.342208     0\n",
      "13   37.661329  7069.437232     0\n",
      "14   33.306254  2570.201667     0\n",
      "15   32.857460  5087.837876     0\n",
      "16   32.304749  3001.112479     0\n",
      "17   30.440133  7463.354842     0\n",
      "18   32.097126  3116.087020     0\n",
      "19   28.814315  6116.682696     0\n",
      "20   27.161923  3303.302735     0\n",
      "21   23.387897  6786.912274     0\n",
      "22   25.657759  6687.608704     0\n",
      "23   23.002437  3386.538910     0\n",
      "24   22.577149  3145.064770     0\n",
      "25   18.067575  3202.585270     0\n",
      "26   16.877809  6221.303977     0\n",
      "27   17.160202  7035.278477     0\n",
      "28   16.866925   436.759422     0\n",
      "29   16.339482  7414.268341     0\n",
      "\n",
      "Processing key: DEPT135_0\n",
      "k1: DEPT135\n",
      "\n",
      "get_1d_dataframe_from_json DEPT135_0:\n",
      "\n",
      "            ppm    Intensity  Type\n",
      "0   121.449962   821.354186     0\n",
      "1    82.208560  1051.081784     0\n",
      "2    67.123814   965.047925     0\n",
      "3    47.066173   906.668946     0\n",
      "4    54.742520   912.027615     0\n",
      "5    46.850413  -761.458855     0\n",
      "6    40.777085   929.533894     0\n",
      "7    45.671141  -647.020283     0\n",
      "8    33.306817  -629.946564     0\n",
      "9    32.857947  1160.833570     0\n",
      "10   32.307144  -601.486915     0\n",
      "11   28.816753  1750.881351     0\n",
      "12   32.098417  -695.314268     0\n",
      "13   27.164759  -752.398644     0\n",
      "14   25.660349  2622.873415     0\n",
      "15   23.389435  1964.960173     0\n",
      "16   23.004624  -882.586098     0\n",
      "17   18.069656  -621.449877     0\n",
      "18   22.579694  -726.121768     0\n",
      "19   17.163413  2424.600215     0\n",
      "20   16.878340  2730.802018     0\n",
      "21   16.341709  2621.079694     0\n",
      "\n",
      "Processing key: HSQC_0\n",
      "k1: HSQC\n",
      "technique:  HSQC_0\n",
      "Processing key: HMBC_0\n",
      "k1: HMBC\n",
      "technique:  HMBC_0\n",
      "Processing key: COSY_0\n",
      "k1: COSY\n",
      "technique:  COSY_0\n",
      "Processing key: MNOVAcalcMethod\n",
      "k1: MNOVAcalcMethod\n",
      "Processing key: exptIdentifiers\n",
      "k1: exptIdentifiers\n",
      "Skipping exptIdentifiers\n",
      "Processing key: workingDirectory\n",
      "k1: workingDirectory\n",
      "Processing key: workingFilename\n",
      "k1: workingFilename\n",
      "Processing key: simulatedAnnealing\n",
      "k1: simulatedAnnealing\n",
      "Processing key: ml_consent\n",
      "k1: ml\n",
      "Skipping ml\n",
      "Processing key: spectraWithPeaks\n",
      "k1: spectraWithPeaks\n",
      "_dataframes keys:  dict_keys(['smiles', 'molfile', 'allAtomsInfo', 'carbonAtomsInfo', 'nmrAssignments', 'c13predictions', 'chosenSpectra', 'C13_1D_0', 'DEPT135_0', 'HSQC_0', 'HMBC_0', 'COSY_0', 'MNOVAcalcMethod', 'workingDirectory', 'workingFilename', 'simulatedAnnealing', 'spectraWithPeaks'])\n",
      "\n",
      "from_mnova_dict\n",
      "\n",
      "dataframes keys:  dict_keys(['smiles', 'molfile', 'allAtomsInfo', 'carbonAtomsInfo', 'nmrAssignments', 'c13predictions', 'chosenSpectra', 'C13_1D_0', 'DEPT135_0', 'HSQC_0', 'HMBC_0', 'COSY_0', 'MNOVAcalcMethod', 'workingDirectory', 'workingFilename', 'simulatedAnnealing', 'spectraWithPeaks'])\n",
      "\n",
      "NMRProblem.__init__(self, dataframes: dict):\n",
      "\n",
      "*********************************************\n",
      "self.dataframes.keys(): dict_keys(['smiles', 'molfile', 'allAtomsInfo', 'carbonAtomsInfo', 'nmrAssignments', 'c13predictions', 'chosenSpectra', 'C13_1D_0', 'DEPT135_0', 'HSQC_0', 'HMBC_0', 'COSY_0', 'MNOVAcalcMethod', 'workingDirectory', 'workingFilename', 'simulatedAnnealing', 'spectraWithPeaks'])\n",
      "915 self.dataframes.keys():\n",
      " dict_keys(['smiles', 'molfile', 'allAtomsInfo', 'carbonAtomsInfo', 'nmrAssignments', 'c13predictions', 'chosenSpectra', 'C13_1D_0', 'DEPT135_0', 'HSQC_0', 'HMBC_0', 'COSY_0', 'MNOVAcalcMethod', 'workingDirectory', 'workingFilename', 'simulatedAnnealing', 'spectraWithPeaks', 'molecule', 'H1_1D_0', 'H1_pureshift_0', 'HSQC_CLIPCOSY_0', 'DDEPT_CH3_ONLY_0', 'NOESY_0'])\n",
      "917 self.dataframes.keys():\n",
      " dict_keys(['smiles', 'molfile', 'allAtomsInfo', 'carbonAtomsInfo', 'nmrAssignments', 'c13predictions', 'chosenSpectra', 'C13_1D_0', 'DEPT135_0', 'HSQC_0', 'HMBC_0', 'COSY_0', 'MNOVAcalcMethod', 'workingDirectory', 'workingFilename', 'simulatedAnnealing', 'spectraWithPeaks', 'molecule', 'H1_1D_0', 'H1_pureshift_0', 'HSQC_CLIPCOSY_0', 'DDEPT_CH3_ONLY_0', 'NOESY_0'])\n",
      "\n",
      "combine_multiple_nmrExpt_dataframes(dataframes: dict) -> dict:\n",
      "\n",
      "dataframes keys:  dict_keys(['smiles', 'molfile', 'allAtomsInfo', 'carbonAtomsInfo', 'nmrAssignments', 'c13predictions', 'chosenSpectra', 'C13_1D_0', 'DEPT135_0', 'HSQC_0', 'HMBC_0', 'COSY_0', 'MNOVAcalcMethod', 'workingDirectory', 'workingFilename', 'simulatedAnnealing', 'spectraWithPeaks', 'molecule', 'H1_1D_0', 'H1_pureshift_0', 'HSQC_CLIPCOSY_0', 'DDEPT_CH3_ONLY_0', 'NOESY_0'])\n",
      "Processing key: smiles\n",
      "Processing key: molfile\n",
      "Processing key: allAtomsInfo\n",
      "Processing key: carbonAtomsInfo\n",
      "Processing key: nmrAssignments\n",
      "Processing key: c13predictions\n",
      "Processing key: chosenSpectra\n",
      "Processing key: C13_1D_0\n",
      "C13_1D_0 shape: (30, 3)\n",
      "Processing key: DEPT135_0\n",
      "DEPT135_0 shape: (22, 3)\n",
      "Processing key: HSQC_0\n",
      "HSQC_0 shape: (31, 5)\n",
      "Processing key: HMBC_0\n",
      "HMBC_0 shape: (60, 5)\n",
      "Processing key: COSY_0\n",
      "COSY_0 shape: (7, 5)\n",
      "Processing key: MNOVAcalcMethod\n",
      "Processing key: workingDirectory\n",
      "Processing key: workingFilename\n",
      "Processing key: simulatedAnnealing\n",
      "Processing key: spectraWithPeaks\n",
      "Processing key: molecule\n",
      "Processing key: H1_1D_0\n",
      "H1_1D_0 shape: (0, 8)\n",
      "Processing key: H1_pureshift_0\n",
      "H1_pureshift_0 shape: (0, 8)\n",
      "Processing key: HSQC_CLIPCOSY_0\n",
      "HSQC_CLIPCOSY_0 shape: (0, 10)\n",
      "Processing key: DDEPT_CH3_ONLY_0\n",
      "DDEPT_CH3_ONLY_0 shape: (0, 10)\n",
      "Processing key: NOESY_0\n",
      "NOESY_0 shape: (0, 10)\n",
      "\n",
      "Combined NMR experiment dataframes:\n",
      "smiles: 1 rows\n",
      "molfile: 1 rows\n",
      "allAtomsInfo: 34 rows\n",
      "carbonAtomsInfo: 30 rows\n",
      "nmrAssignments: 0 rows\n",
      "c13predictions: 30 rows\n",
      "chosenSpectra: 5 rows\n",
      "C13_1D_0: 30 rows\n",
      "DEPT135_0: 22 rows\n",
      "HSQC_0: 31 rows\n",
      "HMBC_0: 60 rows\n",
      "COSY_0: 7 rows\n",
      "MNOVAcalcMethod: 1 rows\n",
      "workingDirectory: 1 rows\n",
      "workingFilename: 1 rows\n",
      "simulatedAnnealing: 1 rows\n",
      "spectraWithPeaks: 5 rows\n",
      "molecule: 0 rows\n",
      "H1_1D_0: 0 rows\n",
      "H1_pureshift_0: 0 rows\n",
      "HSQC_CLIPCOSY_0: 0 rows\n",
      "DDEPT_CH3_ONLY_0: 0 rows\n",
      "NOESY_0: 0 rows\n",
      "C13_1D: 30 rows\n",
      "DEPT135: 22 rows\n",
      "HSQC: 31 rows\n",
      "HMBC: 60 rows\n",
      "COSY: 7 rows\n",
      "H1_1D: 0 rows\n",
      "H1_pureshift: 0 rows\n",
      "HSQC_CLIPCOSY: 0 rows\n",
      "DDEPT_CH3_ONLY: 0 rows\n",
      "NOESY: 0 rows\n",
      "Removed C13_1D_0 from dataframes\n",
      "Removed DEPT135_0 from dataframes\n",
      "Removed HSQC_0 from dataframes\n",
      "Removed HMBC_0 from dataframes\n",
      "Removed COSY_0 from dataframes\n",
      "Removed H1_1D_0 from dataframes\n",
      "Removed H1_pureshift_0 from dataframes\n",
      "Removed HSQC_CLIPCOSY_0 from dataframes\n",
      "Removed DDEPT_CH3_ONLY_0 from dataframes\n",
      "Removed NOESY_0 from dataframes\n",
      "\n",
      "Final dataframes keys:\n",
      "smiles: 1 rows\n",
      "molfile: 1 rows\n",
      "allAtomsInfo: 34 rows\n",
      "carbonAtomsInfo: 30 rows\n",
      "nmrAssignments: 0 rows\n",
      "c13predictions: 30 rows\n",
      "chosenSpectra: 5 rows\n",
      "MNOVAcalcMethod: 1 rows\n",
      "workingDirectory: 1 rows\n",
      "workingFilename: 1 rows\n",
      "simulatedAnnealing: 1 rows\n",
      "spectraWithPeaks: 5 rows\n",
      "molecule: 0 rows\n",
      "C13_1D: 30 rows\n",
      "DEPT135: 22 rows\n",
      "HSQC: 31 rows\n",
      "HMBC: 60 rows\n",
      "COSY: 7 rows\n",
      "H1_1D: 0 rows\n",
      "H1_pureshift: 0 rows\n",
      "HSQC_CLIPCOSY: 0 rows\n",
      "DDEPT_CH3_ONLY: 0 rows\n",
      "NOESY: 0 rows\n",
      "self.dataframes.keys(): dict_keys(['smiles', 'molfile', 'allAtomsInfo', 'carbonAtomsInfo', 'nmrAssignments', 'c13predictions', 'chosenSpectra', 'MNOVAcalcMethod', 'workingDirectory', 'workingFilename', 'simulatedAnnealing', 'spectraWithPeaks', 'molecule', 'C13_1D', 'DEPT135', 'HSQC', 'HMBC', 'COSY', 'H1_1D', 'H1_pureshift', 'HSQC_CLIPCOSY', 'DDEPT_CH3_ONLY', 'NOESY'])\n",
      "self.dataframes.keys(): dict_keys(['smiles', 'molfile', 'allAtomsInfo', 'carbonAtomsInfo', 'nmrAssignments', 'c13predictions', 'chosenSpectra', 'MNOVAcalcMethod', 'workingDirectory', 'workingFilename', 'simulatedAnnealing', 'spectraWithPeaks', 'molecule', 'C13_1D', 'DEPT135', 'HSQC', 'HMBC', 'COSY', 'H1_1D', 'H1_pureshift', 'HSQC_CLIPCOSY', 'DDEPT_CH3_ONLY', 'NOESY'])\n",
      "*********************************************\n",
      "self.carbonSeparation 0.0025\n",
      "self.protonSeparation 0.005\n",
      "*********************************************\n",
      "f1_ppm_expts: {16.35145776076305, 16.881364678243926, 18.068776701333157, 17.162445738820747, 17.238231576321514, 16.380327732982973, 22.595058959533304, 23.019180645785546, 23.41123178521184, 25.6705287275887, 17.181095621748604, 27.180464743106256, 27.170010919434517, 28.836171536384203, 22.58483305714327, 23.38935664664648, 32.097093028888324, 32.3142017848178, 33.30901354706183, 32.30448049723888, 32.86875386958013, 28.844268937129716, 30.456056372946573, 30.50892471679494, 40.800789165511894, 32.868427450658814, 33.31679290621827, 37.68095760835963, 38.94298914721864, 45.67941127101848, 46.853092687990056, 47.071277053965524, 46.875663484470266, 40.83172130863291, 41.35744305879667, 45.68137142178359, 46.90325269384412, 47.10505495854605, 54.75287145606786, 47.070222512064, 47.07969025102236, 54.79533652556976, 54.7457056158293, 67.17938685484016, 67.1507124735052, 67.1610436376373, 67.10929314378731, 82.23024865996922, 82.22043734799003, 82.22986855046894, 23.029079254776825, 23.412836283313823, 121.46816300827828, 121.44698453174423, 25.655765124465642, 27.183975481943392, 28.828834068579706, 143.9439145442587, 144.0095668167844, 30.448084297036942, 32.31914375241772, 178.687620223193, 37.660955213260806, 38.90929365753128, 38.93021553089892, 40.785288302831574, 41.351127937638566, 41.37233711690512, 41.35500057490469, 41.357152841547666, 45.46861564083114, 45.68100667086435}\n",
      "f2_ppm_expts: {0.9895197060991744, 1.916144378955079, 2.7337463544592535, 2.735322459063085, 3.4178840084853572, 5.1690657846931085, 1.8339148087838735, 1.817700527341664, 1.7447232789199345, 1.6448447055381057, 1.610663841880372, 2.751594599766483, 5.169210244860992, 5.169124560107967, 5.169338771990529, 2.733703233011024, 0.876274909817159, 1.6056364782751693, 4.407737190293997, 1.7437663896409215, 1.094001812855627, 1.0943257904498478, 1.91593171268724, 0.900638311815826, 0.6985213053834093, 0.9197556970289724, 1.052811939804404, 0.9195474885234702, 0.8764807009796662, 1.5237997343495389, 1.4327477055228472, 1.05261470971248, 0.7062118343807998, 2.7332502870172144, 0.7691717935181697, 1.402866037833456, 1.236627794595923, 1.745025060592153, 0.7058375469013191, 5.169972867122305, 1.4667771504138378, 1.831308226122681, 0.7681256382335008, 0.9880095403299848, 2.7416759067084313, 0.7556792413562954, 1.6069238849223042, 1.3312720840753707, 1.0940893136836338, 0.7041912768167026, 0.7680792068228772, 0.9187361039625214, 0.7012765155746249, 2.740237694356244, 0.9193352566038745, 0.9190831941385246, 0.70194279818835, 2.739367138768861, 3.427713144269413, 1.3221511883276291, 0.7062242249024621, 1.1294659518477617, 1.5242841391638131, 1.744950871328323, 0.9004742566563794, 0.8762448721314964, 0.700391802295061, 0.6992690983400205, 1.4743052096548641, 0.8751499091905782, 1.6055095563203423, 0.9004415501736167, 1.6083268236956014, 1.2341369745202746, 1.0942015467946105, 0.9004529811372698, 2.739218526202886, 3.4189679197914833, 4.305155940328318, 1.0941439609715637, 1.9156946716527294, 1.7447765569652447, 1.6094445249608988, 0.876281353889229, 1.742408136409597, 1.5250651639251234, 1.0518017724800823, 1.8258620295085701, 2.740343503706931, 2.7388816535451848, 1.8301905248573822, 1.7462918079517278}\n",
      "extra f1_ppm: {143.92146286494645, 16.877809267543377, 17.16020184887406, 18.067575290214183, 16.866925022997417, 16.339481515699212, 22.57714918551866, 23.00243748656176, 23.387897345210142, 25.657759349886017, 27.161923236252157, 28.814314704717724, 30.440132812759334, 32.85746013031923, 33.30625383092532, 32.30474853232717, 32.097125699523325, 37.661328599457576, 38.906063425321506, 40.77392945666625, 41.34577185421822, 45.66858817364974, 46.849134423662605, 47.06309878414573, 45.44319437674303, 178.6288362135547, 54.740825530658135, 67.12278580056329, 82.20758594876054, 121.44651952736987}\n",
      "extra f2_ppm: set()\n",
      "All ppm values in f1_ppm and f2_ppm are accounted for in the expts_with_peaks.\n",
      "self.exact_ppm_values: True\n"
     ]
    }
   ],
   "source": [
    "problemdata_json = NMRProblem.from_mnova_dict(json_data)\n"
   ]
  },
  {
   "cell_type": "code",
   "execution_count": 23,
   "id": "47f70519",
   "metadata": {},
   "outputs": [
    {
     "name": "stdout",
     "output_type": "stream",
     "text": [
      "self.expts_available {'HMBC', 'C13_1D', 'COSY', 'HSQC', 'DEPT135'}\n",
      "Prediction from MNOVA\n",
      "=====================================================\n",
      "Using mnova_c13predictions to calculate C13 NMR chemical shifts\n",
      "=====================================================\n",
      "n=====================================================\n",
      "mnova_c13predictions Index(['atomNumber', 'atom_idx', 'numProtons', 'ppm'], dtype='object')\n",
      "=====================================================\n",
      "\n",
      "find the symmetry atoms in each ring and non ring group and assign the symmetry indices to each\n",
      "\n",
      "self.hsqc_df.columns\n",
      " Index(['f2_ppm', 'f1_ppm', 'intensity', 'signaltype', 'Annotation'], dtype='object')\n",
      "check_hsqc_assign_CH2_from_DEPT135\n",
      "self.hsqc_df.shape[0] 31\n",
      "self.dept_df.shape[0] 22\n",
      "mol.num_carbon_atoms_with_protons 22\n",
      "self.hsqc_df.shape[0] == self.dept_df.shape[0] False\n",
      "diasterotopic CH2 carbons\n"
     ]
    }
   ],
   "source": [
    "solution = nmrsolution.NMRsolution(problemdata_json)"
   ]
  },
  {
   "cell_type": "code",
   "execution_count": 24,
   "id": "7e761f1c",
   "metadata": {},
   "outputs": [
    {
     "name": "stdout",
     "output_type": "stream",
     "text": [
      "p0 46.875663484470266 <class 'float'>\n",
      "p0 45.67941127101848 <class 'float'>\n",
      "p0 33.30901354706183 <class 'float'>\n",
      "p0 32.3142017848178 <class 'float'>\n",
      "p0 32.097093028888324 <class 'float'>\n",
      "p0 27.180464743106256 <class 'float'>\n",
      "p0 23.019180645785546 <class 'float'>\n",
      "p0 22.595058959533304 <class 'float'>\n",
      "p0 18.068776701333157 <class 'float'>\n",
      "init_c13_from_hsqc_and_hmbc\n",
      "init_pureshift_from_h1\n",
      "Exact ppm values only, no tidy up required\n",
      "Exact ppm values only, no tidy up required\n",
      "self.C13indexC13ppm {1: 178.6288362135547, 2: 143.92146286494645, 3: 121.44651952736987, 4: 82.20758594876054, 5: 67.12278580056329, 6: 54.740825530658135, 7: 47.06309878414573, 8: 46.849134423662605, 9: 45.66858817364974, 10: 45.44319437674303, 11: 41.34577185421822, 12: 40.77392945666625, 13: 38.906063425321506, 14: 37.661328599457576, 15: 33.30625383092532, 16: 32.85746013031923, 17: 32.30474853232717, 18: 32.097125699523325, 19: 30.440132812759334, 20: 28.814314704717724, 21: 27.161923236252157, 22: 25.657759349886017, 23: 23.387897345210142, 24: 23.00243748656176, 25: 22.57714918551866, 26: 18.067575290214183, 27: 17.16020184887406, 28: 16.877809267543377, 29: 16.866925022997417, 30: 16.339481515699212}\n",
      "0\n"
     ]
    },
    {
     "ename": "KeyError",
     "evalue": "121.46816300827828",
     "output_type": "error",
     "traceback": [
      "\u001b[0;31m---------------------------------------------------------------------------\u001b[0m",
      "\u001b[0;31mKeyError\u001b[0m                                  Traceback (most recent call last)",
      "\u001b[0;32m/var/folders/yz/hsbtw39s1z5fwqnp6g1wtk1r0000gq/T/ipykernel_30356/2947312308.py\u001b[0m in \u001b[0;36m<module>\u001b[0;34m\u001b[0m\n\u001b[0;32m----> 1\u001b[0;31m \u001b[0mok\u001b[0m\u001b[0;34m,\u001b[0m \u001b[0mmsg\u001b[0m \u001b[0;34m=\u001b[0m \u001b[0msolution\u001b[0m\u001b[0;34m.\u001b[0m\u001b[0minit_class_from_json\u001b[0m\u001b[0;34m(\u001b[0m\u001b[0;34m)\u001b[0m\u001b[0;34m\u001b[0m\u001b[0;34m\u001b[0m\u001b[0m\n\u001b[0m",
      "\u001b[0;32m~/Library/CloudStorage/OneDrive-DurhamUniversity/projects/programming/2025/python/awh/simpleNMRtools2/nmrsolution.py\u001b[0m in \u001b[0;36minit_class_from_json\u001b[0;34m(self)\u001b[0m\n\u001b[1;32m   2205\u001b[0m             \u001b[0mself\u001b[0m\u001b[0;34m.\u001b[0m\u001b[0mhsqc\u001b[0m\u001b[0;34m.\u001b[0m\u001b[0mloc\u001b[0m\u001b[0;34m[\u001b[0m\u001b[0mi\u001b[0m\u001b[0;34m,\u001b[0m \u001b[0;34m\"f2_i\"\u001b[0m\u001b[0;34m]\u001b[0m \u001b[0;34m=\u001b[0m \u001b[0mself\u001b[0m\u001b[0;34m.\u001b[0m\u001b[0mH1ppmH1index\u001b[0m\u001b[0;34m[\u001b[0m\u001b[0mself\u001b[0m\u001b[0;34m.\u001b[0m\u001b[0mhsqc\u001b[0m\u001b[0;34m.\u001b[0m\u001b[0mloc\u001b[0m\u001b[0;34m[\u001b[0m\u001b[0mi\u001b[0m\u001b[0;34m,\u001b[0m \u001b[0;34m\"f2_ppm\"\u001b[0m\u001b[0;34m]\u001b[0m\u001b[0;34m]\u001b[0m\u001b[0;34m\u001b[0m\u001b[0;34m\u001b[0m\u001b[0m\n\u001b[1;32m   2206\u001b[0m             \u001b[0mself\u001b[0m\u001b[0;34m.\u001b[0m\u001b[0mhsqc\u001b[0m\u001b[0;34m.\u001b[0m\u001b[0mloc\u001b[0m\u001b[0;34m[\u001b[0m\u001b[0mi\u001b[0m\u001b[0;34m,\u001b[0m \u001b[0;34m\"f2H_i\"\u001b[0m\u001b[0;34m]\u001b[0m \u001b[0;34m=\u001b[0m \u001b[0mself\u001b[0m\u001b[0;34m.\u001b[0m\u001b[0mH1ppmH1label\u001b[0m\u001b[0;34m[\u001b[0m\u001b[0mself\u001b[0m\u001b[0;34m.\u001b[0m\u001b[0mhsqc\u001b[0m\u001b[0;34m.\u001b[0m\u001b[0mloc\u001b[0m\u001b[0;34m[\u001b[0m\u001b[0mi\u001b[0m\u001b[0;34m,\u001b[0m \u001b[0;34m\"f2_ppm\"\u001b[0m\u001b[0;34m]\u001b[0m\u001b[0;34m]\u001b[0m\u001b[0;34m\u001b[0m\u001b[0;34m\u001b[0m\u001b[0m\n\u001b[0;32m-> 2207\u001b[0;31m             \u001b[0mself\u001b[0m\u001b[0;34m.\u001b[0m\u001b[0mhsqc\u001b[0m\u001b[0;34m.\u001b[0m\u001b[0mloc\u001b[0m\u001b[0;34m[\u001b[0m\u001b[0mi\u001b[0m\u001b[0;34m,\u001b[0m \u001b[0;34m\"f1_i\"\u001b[0m\u001b[0;34m]\u001b[0m \u001b[0;34m=\u001b[0m \u001b[0mself\u001b[0m\u001b[0;34m.\u001b[0m\u001b[0mC13ppmC13index\u001b[0m\u001b[0;34m[\u001b[0m\u001b[0mself\u001b[0m\u001b[0;34m.\u001b[0m\u001b[0mhsqc\u001b[0m\u001b[0;34m.\u001b[0m\u001b[0mloc\u001b[0m\u001b[0;34m[\u001b[0m\u001b[0mi\u001b[0m\u001b[0;34m,\u001b[0m \u001b[0;34m\"f1_ppm\"\u001b[0m\u001b[0;34m]\u001b[0m\u001b[0;34m]\u001b[0m\u001b[0;34m\u001b[0m\u001b[0;34m\u001b[0m\u001b[0m\n\u001b[0m\u001b[1;32m   2208\u001b[0m             \u001b[0mself\u001b[0m\u001b[0;34m.\u001b[0m\u001b[0mhsqc\u001b[0m\u001b[0;34m.\u001b[0m\u001b[0mloc\u001b[0m\u001b[0;34m[\u001b[0m\u001b[0mi\u001b[0m\u001b[0;34m,\u001b[0m \u001b[0;34m\"f1C_i\"\u001b[0m\u001b[0;34m]\u001b[0m \u001b[0;34m=\u001b[0m \u001b[0mself\u001b[0m\u001b[0;34m.\u001b[0m\u001b[0mC13ppmC13label\u001b[0m\u001b[0;34m[\u001b[0m\u001b[0mself\u001b[0m\u001b[0;34m.\u001b[0m\u001b[0mhsqc\u001b[0m\u001b[0;34m.\u001b[0m\u001b[0mloc\u001b[0m\u001b[0;34m[\u001b[0m\u001b[0mi\u001b[0m\u001b[0;34m,\u001b[0m \u001b[0;34m\"f1_ppm\"\u001b[0m\u001b[0;34m]\u001b[0m\u001b[0;34m]\u001b[0m\u001b[0;34m\u001b[0m\u001b[0;34m\u001b[0m\u001b[0m\n\u001b[1;32m   2209\u001b[0m             \u001b[0mself\u001b[0m\u001b[0;34m.\u001b[0m\u001b[0mhsqc\u001b[0m\u001b[0;34m.\u001b[0m\u001b[0mloc\u001b[0m\u001b[0;34m[\u001b[0m\u001b[0mi\u001b[0m\u001b[0;34m,\u001b[0m \u001b[0;34m\"f2Cp_i\"\u001b[0m\u001b[0;34m]\u001b[0m \u001b[0;34m=\u001b[0m \u001b[0mself\u001b[0m\u001b[0;34m.\u001b[0m\u001b[0mC13ppmC13label\u001b[0m\u001b[0;34m[\u001b[0m\u001b[0mself\u001b[0m\u001b[0;34m.\u001b[0m\u001b[0mhsqc\u001b[0m\u001b[0;34m.\u001b[0m\u001b[0mloc\u001b[0m\u001b[0;34m[\u001b[0m\u001b[0mi\u001b[0m\u001b[0;34m,\u001b[0m \u001b[0;34m\"f1_ppm\"\u001b[0m\u001b[0;34m]\u001b[0m\u001b[0;34m]\u001b[0m\u001b[0;34m\u001b[0m\u001b[0;34m\u001b[0m\u001b[0m\n",
      "\u001b[0;31mKeyError\u001b[0m: 121.46816300827828"
     ]
    }
   ],
   "source": [
    "ok, msg = solution.init_class_from_json()"
   ]
  },
  {
   "cell_type": "code",
   "execution_count": 25,
   "id": "8472b3fd",
   "metadata": {},
   "outputs": [
    {
     "name": "stdout",
     "output_type": "stream",
     "text": [
      "====================================\n",
      "assign_CH3_CH2_CH1_in_HSQC_using_Assignments\n",
      "====================================\n",
      "c13_from_hsqc and H1_data_missing\n",
      "CH1_mol_df.shape[0]: 6\n",
      "num_CH3CH1_hsqc: 13\n",
      "CH3CH1_hsqc_df.shape[0]: 13\n",
      "CH3CH1_mol_df.shape[0]: 13\n",
      "CH3CH1_sym_mol_df.shape[0]: 11\n",
      "we have both CH3 and CH1 groups in the expected molecule\n",
      "CH3CH1_hsqc_df_lessthan_67.shape[0]: 10\n",
      "CH3CH1_hsqc_df_morethan_67.shape[0]: 3\n",
      "CH3CH1_mol_df_lessthan_67.shape[0]: 10\n",
      "CH3CH1_mol_df_morethan_67.shape[0]: 3\n",
      "CH3CH1_hsqc_df.shape[0] == CH3CH1_mol_df.shape[0]\n",
      "self.error_code 200\n",
      "ok 200\n"
     ]
    },
    {
     "data": {
      "text/plain": [
       "'ok'"
      ]
     },
     "execution_count": 25,
     "metadata": {},
     "output_type": "execute_result"
    }
   ],
   "source": [
    "rtn_msg, rtn_num = solution.assign_CH3_CH2_CH1_overall()\n",
    "rtn_msg"
   ]
  },
  {
   "cell_type": "code",
   "execution_count": 26,
   "id": "b0fba4f2",
   "metadata": {},
   "outputs": [
    {
     "data": {
      "text/plain": [
       "[True, False, False, False, True, True, True, False, True]"
      ]
     },
     "execution_count": 26,
     "metadata": {},
     "output_type": "execute_result"
    }
   ],
   "source": [
    "[problemdata_json.dataframes[\"H1_1D\"].empty,\n",
    " problemdata_json.dataframes[\"C13_1D\"].empty,\n",
    " problemdata_json.dataframes[\"HSQC\"].empty,\n",
    " problemdata_json.dataframes[\"HMBC\"].empty,\n",
    " problemdata_json.dataframes[\"H1_pureshift\"].empty,\n",
    " problemdata_json.dataframes[\"HSQC_CLIPCOSY\"].empty,\n",
    " problemdata_json.dataframes[\"DDEPT_CH3_ONLY\"].empty,\n",
    " problemdata_json.dataframes[\"COSY\"].empty,\n",
    " problemdata_json.dataframes[\"NOESY\"].empty\n",
    " ]"
   ]
  },
  {
   "cell_type": "code",
   "execution_count": 27,
   "id": "384c1472",
   "metadata": {},
   "outputs": [
    {
     "data": {
      "text/html": [
       "<div>\n",
       "<style scoped>\n",
       "    .dataframe tbody tr th:only-of-type {\n",
       "        vertical-align: middle;\n",
       "    }\n",
       "\n",
       "    .dataframe tbody tr th {\n",
       "        vertical-align: top;\n",
       "    }\n",
       "\n",
       "    .dataframe thead th {\n",
       "        text-align: right;\n",
       "    }\n",
       "</style>\n",
       "<table border=\"1\" class=\"dataframe\">\n",
       "  <thead>\n",
       "    <tr style=\"text-align: right;\">\n",
       "      <th></th>\n",
       "      <th>chosenSpectra</th>\n",
       "      <th>filename</th>\n",
       "      <th>expt</th>\n",
       "      <th>NMRdimensions</th>\n",
       "    </tr>\n",
       "  </thead>\n",
       "  <tbody>\n",
       "    <tr>\n",
       "      <th>0</th>\n",
       "      <td>13C 1D zgpg30 maslinic_acid.3.fid_2 C13_1D</td>\n",
       "      <td>maslinic_acid.3.fid_2</td>\n",
       "      <td>C13_1D</td>\n",
       "      <td>1D</td>\n",
       "    </tr>\n",
       "    <tr>\n",
       "      <th>1</th>\n",
       "      <td>13C DEPT-135 deptsp135 maslinic_acid.5.fid_3 D...</td>\n",
       "      <td>maslinic_acid.5.fid_3</td>\n",
       "      <td>DEPT135</td>\n",
       "      <td>1D</td>\n",
       "    </tr>\n",
       "    <tr>\n",
       "      <th>2</th>\n",
       "      <td>[13C, 1H] HSQC hsqcetgp maslinic_acid.6.ser_4 ...</td>\n",
       "      <td>maslinic_acid.6.ser_4</td>\n",
       "      <td>HSQC</td>\n",
       "      <td>2D</td>\n",
       "    </tr>\n",
       "    <tr>\n",
       "      <th>3</th>\n",
       "      <td>[13C, 1H] HMBC hmbcetgpl3nd maslinic_acid.8.se...</td>\n",
       "      <td>maslinic_acid.8.ser_5</td>\n",
       "      <td>HMBC</td>\n",
       "      <td>2D</td>\n",
       "    </tr>\n",
       "    <tr>\n",
       "      <th>4</th>\n",
       "      <td>[1H, 1H] COSY cosyqf45 maslinic_acid.9.ser_6 COSY</td>\n",
       "      <td>maslinic_acid.9.ser_6</td>\n",
       "      <td>COSY</td>\n",
       "      <td>2D</td>\n",
       "    </tr>\n",
       "  </tbody>\n",
       "</table>\n",
       "</div>"
      ],
      "text/plain": [
       "                                       chosenSpectra               filename  \\\n",
       "0         13C 1D zgpg30 maslinic_acid.3.fid_2 C13_1D  maslinic_acid.3.fid_2   \n",
       "1  13C DEPT-135 deptsp135 maslinic_acid.5.fid_3 D...  maslinic_acid.5.fid_3   \n",
       "2  [13C, 1H] HSQC hsqcetgp maslinic_acid.6.ser_4 ...  maslinic_acid.6.ser_4   \n",
       "3  [13C, 1H] HMBC hmbcetgpl3nd maslinic_acid.8.se...  maslinic_acid.8.ser_5   \n",
       "4  [1H, 1H] COSY cosyqf45 maslinic_acid.9.ser_6 COSY  maslinic_acid.9.ser_6   \n",
       "\n",
       "      expt NMRdimensions  \n",
       "0   C13_1D            1D  \n",
       "1  DEPT135            1D  \n",
       "2     HSQC            2D  \n",
       "3     HMBC            2D  \n",
       "4     COSY            2D  "
      ]
     },
     "execution_count": 27,
     "metadata": {},
     "output_type": "execute_result"
    }
   ],
   "source": [
    "problemdata_json.dataframes[\"chosenSpectra\"]"
   ]
  },
  {
   "cell_type": "code",
   "execution_count": 28,
   "id": "8810c161",
   "metadata": {},
   "outputs": [
    {
     "data": {
      "text/plain": [
       "array(['C13_1D', 'DEPT135', 'HSQC', 'HMBC', 'COSY'], dtype=object)"
      ]
     },
     "execution_count": 28,
     "metadata": {},
     "output_type": "execute_result"
    }
   ],
   "source": [
    "# drop the rows with SKIP in expt column\n",
    "expts_with_peaks = problemdata_json.dataframes[\"chosenSpectra\"][~problemdata_json.dataframes[\"chosenSpectra\"][\"expt\"].str.contains(\"SKIP\")].expt.values\n",
    "expts_with_peaks"
   ]
  },
  {
   "cell_type": "code",
   "execution_count": 31,
   "id": "77af249a",
   "metadata": {},
   "outputs": [
    {
     "name": "stdout",
     "output_type": "stream",
     "text": [
      "f1_ppm_expts: {16.35145776076305, 16.881364678243926, 18.068776701333157, 17.162445738820747, 17.238231576321514, 16.380327732982973, 22.595058959533304, 23.019180645785546, 23.41123178521184, 25.6705287275887, 17.181095621748604, 27.180464743106256, 27.170010919434517, 28.836171536384203, 22.58483305714327, 23.38935664664648, 32.097093028888324, 32.3142017848178, 33.30901354706183, 32.30448049723888, 32.86875386958013, 28.844268937129716, 30.456056372946573, 30.50892471679494, 40.800789165511894, 32.868427450658814, 33.31679290621827, 37.68095760835963, 38.94298914721864, 45.67941127101848, 46.853092687990056, 47.071277053965524, 46.875663484470266, 40.83172130863291, 41.35744305879667, 45.68137142178359, 46.90325269384412, 47.10505495854605, 54.75287145606786, 47.070222512064, 47.07969025102236, 54.79533652556976, 54.7457056158293, 67.17938685484016, 67.1507124735052, 67.1610436376373, 67.10929314378731, 82.23024865996922, 82.22043734799003, 82.22986855046894, 23.029079254776825, 23.412836283313823, 121.46816300827828, 121.44698453174423, 25.655765124465642, 27.183975481943392, 28.828834068579706, 143.9439145442587, 144.0095668167844, 30.448084297036942, 32.31914375241772, 178.687620223193, 37.660955213260806, 38.90929365753128, 38.93021553089892, 40.785288302831574, 41.351127937638566, 41.37233711690512, 41.35500057490469, 41.357152841547666, 45.46861564083114, 45.68100667086435}\n",
      "f2_ppm_expts: {0.9895197060991744, 1.916144378955079, 2.7337463544592535, 2.735322459063085, 3.4178840084853572, 5.1690657846931085, 1.8339148087838735, 1.817700527341664, 1.7447232789199345, 1.6448447055381057, 1.610663841880372, 2.751594599766483, 5.169210244860992, 5.169124560107967, 5.169338771990529, 2.733703233011024, 0.876274909817159, 1.6056364782751693, 4.407737190293997, 1.7437663896409215, 1.094001812855627, 1.0943257904498478, 1.91593171268724, 0.900638311815826, 0.6985213053834093, 0.9197556970289724, 1.052811939804404, 0.9195474885234702, 0.8764807009796662, 1.5237997343495389, 1.4327477055228472, 1.05261470971248, 0.7062118343807998, 2.7332502870172144, 0.7691717935181697, 1.402866037833456, 1.236627794595923, 1.745025060592153, 0.7058375469013191, 5.169972867122305, 1.4667771504138378, 1.831308226122681, 0.7681256382335008, 0.9880095403299848, 2.7416759067084313, 0.7556792413562954, 1.6069238849223042, 1.3312720840753707, 1.0940893136836338, 0.7041912768167026, 0.7680792068228772, 0.9187361039625214, 0.7012765155746249, 2.740237694356244, 0.9193352566038745, 0.9190831941385246, 0.70194279818835, 2.739367138768861, 3.427713144269413, 1.3221511883276291, 0.7062242249024621, 1.1294659518477617, 1.5242841391638131, 1.744950871328323, 0.9004742566563794, 0.8762448721314964, 0.700391802295061, 0.6992690983400205, 1.4743052096548641, 0.8751499091905782, 1.6055095563203423, 0.9004415501736167, 1.6083268236956014, 1.2341369745202746, 1.0942015467946105, 0.9004529811372698, 2.739218526202886, 3.4189679197914833, 4.305155940328318, 1.0941439609715637, 1.9156946716527294, 1.7447765569652447, 1.6094445249608988, 0.876281353889229, 1.742408136409597, 1.5250651639251234, 1.0518017724800823, 1.8258620295085701, 2.740343503706931, 2.7388816535451848, 1.8301905248573822, 1.7462918079517278}\n",
      "extra f1_ppm: {143.92146286494645, 16.877809267543377, 17.16020184887406, 18.067575290214183, 16.866925022997417, 16.339481515699212, 22.57714918551866, 23.00243748656176, 23.387897345210142, 25.657759349886017, 27.161923236252157, 28.814314704717724, 30.440132812759334, 32.85746013031923, 33.30625383092532, 32.30474853232717, 32.097125699523325, 37.661328599457576, 38.906063425321506, 40.77392945666625, 41.34577185421822, 45.66858817364974, 46.849134423662605, 47.06309878414573, 45.44319437674303, 178.6288362135547, 54.740825530658135, 67.12278580056329, 82.20758594876054, 121.44651952736987}\n",
      "extra f2_ppm: set()\n",
      "All ppm values in f1_ppm and f2_ppm are accounted for in the expts_with_peaks.\n"
     ]
    },
    {
     "data": {
      "text/plain": [
       "True"
      ]
     },
     "execution_count": 31,
     "metadata": {},
     "output_type": "execute_result"
    }
   ],
   "source": [
    "def exact_ppm_values_only( problemdata_json):\n",
    "\n",
    "    expts_with_peaks = problemdata_json.dataframes[\"chosenSpectra\"][~problemdata_json.dataframes[\"chosenSpectra\"][\"expt\"].str.contains(\"SKIP\")].expt.values\n",
    "\n",
    "    f2_ppm_expts = set()\n",
    "    f1_ppm_expts = set()\n",
    "\n",
    "    f1_ppm = set(problemdata_json.dataframes[\"C13_1D\"][\"ppm\"].values)\n",
    "    f2_ppm = set(problemdata_json.dataframes[\"HSQC\"][\"f2_ppm\"].values)\n",
    "    \n",
    "    if 'C13_1D' in expts_with_peaks and 'HSQC' in expts_with_peaks:\n",
    "\n",
    "\n",
    "\n",
    "\n",
    "        for expt in expts_with_peaks:\n",
    "            if expt in [\"HSQC\", \"HSQC_CLIPCOSY\", \"HMBC\", \"DDEPT_CH3_ONLY\"]:\n",
    "                # add f2_ppm values to f2_ppm_expts set\n",
    "                f2_ppm_set = set(problemdata_json.dataframes[expt][\"f2_ppm\"].values)\n",
    "                f2_ppm_expts.update(f2_ppm_set)\n",
    "                \n",
    "                f1_ppm_set = set(problemdata_json.dataframes[expt][\"f1_ppm\"].values)\n",
    "                f1_ppm_expts.update(f1_ppm_set)\n",
    "\n",
    "            elif expt in [\"COSY\"]:\n",
    "                f2_ppm_set = set(problemdata_json.dataframes[expt][\"f2_ppm\"].values)\n",
    "                f2_ppm_expts.update(f2_ppm_set)\n",
    "                f2_ppm_set = set(problemdata_json.dataframes[expt][\"f1_ppm\"].values)\n",
    "                f2_ppm_expts.update(f2_ppm_set)\n",
    "                \n",
    "\n",
    "\n",
    "        print(\"f1_ppm_expts:\", f1_ppm_expts)\n",
    "        print(\"f2_ppm_expts:\", f2_ppm_expts)\n",
    "\n",
    "        print(\"extra f1_ppm:\", f1_ppm - f1_ppm_expts)\n",
    "        print(\"extra f2_ppm:\", f2_ppm - f2_ppm_expts)\n",
    "\n",
    "        #  check if f1_ppm - f1_ppm_expts is empty\n",
    "        if f1_ppm - f1_ppm_expts and f2_ppm - f2_ppm_expts:\n",
    "            print(\"There are extra ppm values in f1_ppm and f2_ppm that are not in the expts_with_peaks.\")\n",
    "            return False\n",
    "        else:\n",
    "            print(\"All ppm values in f1_ppm and f2_ppm are accounted for in the expts_with_peaks.\")\n",
    "            return True\n",
    "    else:\n",
    "        return False\n",
    "    \n",
    "exact_ppm_values_only(problemdata_json)\n",
    "   "
   ]
  },
  {
   "cell_type": "code",
   "execution_count": 33,
   "id": "75ed27d5",
   "metadata": {},
   "outputs": [],
   "source": [
    "expts_with_peaks = problemdata_json.dataframes[\"chosenSpectra\"][~problemdata_json.dataframes[\"chosenSpectra\"][\"expt\"].str.contains(\"SKIP\")].expt.values\n",
    "\n",
    "f2_ppm_expts = set()\n",
    "f1_ppm_expts = set()\n",
    "\n",
    "f1_ppm = set(problemdata_json.dataframes[\"C13_1D\"][\"ppm\"].values)\n",
    "f2_ppm = set(problemdata_json.dataframes[\"HSQC\"][\"f2_ppm\"].values)"
   ]
  },
  {
   "cell_type": "code",
   "execution_count": 34,
   "id": "6b3ad39a",
   "metadata": {},
   "outputs": [
    {
     "data": {
      "text/plain": [
       "{16.339481515699212,\n",
       " 16.866925022997417,\n",
       " 16.877809267543377,\n",
       " 17.16020184887406,\n",
       " 18.067575290214183,\n",
       " 22.57714918551866,\n",
       " 23.00243748656176,\n",
       " 23.387897345210142,\n",
       " 25.657759349886017,\n",
       " 27.161923236252157,\n",
       " 28.814314704717724,\n",
       " 30.440132812759334,\n",
       " 32.097125699523325,\n",
       " 32.30474853232717,\n",
       " 32.85746013031923,\n",
       " 33.30625383092532,\n",
       " 37.661328599457576,\n",
       " 38.906063425321506,\n",
       " 40.77392945666625,\n",
       " 41.34577185421822,\n",
       " 45.44319437674303,\n",
       " 45.66858817364974,\n",
       " 46.849134423662605,\n",
       " 47.06309878414573,\n",
       " 54.740825530658135,\n",
       " 67.12278580056329,\n",
       " 82.20758594876054,\n",
       " 121.44651952736987,\n",
       " 143.92146286494645,\n",
       " 178.6288362135547}"
      ]
     },
     "execution_count": 34,
     "metadata": {},
     "output_type": "execute_result"
    }
   ],
   "source": [
    "f1_ppm"
   ]
  },
  {
   "cell_type": "code",
   "execution_count": 35,
   "id": "b284fd6e",
   "metadata": {},
   "outputs": [
    {
     "data": {
      "text/plain": [
       "{0.7012765155746249,\n",
       " 0.7058375469013191,\n",
       " 0.7556792413562954,\n",
       " 0.7681256382335008,\n",
       " 0.8751499091905782,\n",
       " 0.9004415501736167,\n",
       " 0.9187361039625214,\n",
       " 0.9895197060991744,\n",
       " 1.05261470971248,\n",
       " 1.0941439609715637,\n",
       " 1.1294659518477617,\n",
       " 1.236627794595923,\n",
       " 1.3221511883276291,\n",
       " 1.3312720840753707,\n",
       " 1.402866037833456,\n",
       " 1.4327477055228472,\n",
       " 1.4667771504138378,\n",
       " 1.4743052096548641,\n",
       " 1.5237997343495389,\n",
       " 1.6069238849223042,\n",
       " 1.610663841880372,\n",
       " 1.6448447055381057,\n",
       " 1.7447232789199345,\n",
       " 1.817700527341664,\n",
       " 1.8339148087838735,\n",
       " 1.916144378955079,\n",
       " 2.7337463544592535,\n",
       " 2.735322459063085,\n",
       " 3.4178840084853572,\n",
       " 5.1690657846931085}"
      ]
     },
     "execution_count": 35,
     "metadata": {},
     "output_type": "execute_result"
    }
   ],
   "source": [
    "f2_ppm"
   ]
  },
  {
   "cell_type": "code",
   "execution_count": 37,
   "id": "5af454b0",
   "metadata": {},
   "outputs": [
    {
     "data": {
      "text/plain": [
       "{16.35145776076305,\n",
       " 16.881364678243926,\n",
       " 17.162445738820747,\n",
       " 18.068776701333157,\n",
       " 22.595058959533304,\n",
       " 23.019180645785546,\n",
       " 23.41123178521184,\n",
       " 25.6705287275887,\n",
       " 27.170010919434517,\n",
       " 27.180464743106256,\n",
       " 28.836171536384203,\n",
       " 32.097093028888324,\n",
       " 32.30448049723888,\n",
       " 32.3142017848178,\n",
       " 32.86875386958013,\n",
       " 33.30901354706183,\n",
       " 40.800789165511894,\n",
       " 45.67941127101848,\n",
       " 46.853092687990056,\n",
       " 46.875663484470266,\n",
       " 47.071277053965524,\n",
       " 54.75287145606786,\n",
       " 67.17938685484016,\n",
       " 82.23024865996922,\n",
       " 121.46816300827828}"
      ]
     },
     "execution_count": 37,
     "metadata": {},
     "output_type": "execute_result"
    }
   ],
   "source": [
    "f1_ppm_set = set(problemdata_json.dataframes[\"HSQC\"][\"f1_ppm\"].values)\n",
    "f1_ppm_set"
   ]
  },
  {
   "cell_type": "code",
   "execution_count": 40,
   "id": "69a2bb00",
   "metadata": {},
   "outputs": [
    {
     "data": {
      "text/plain": [
       "{16.339481515699212,\n",
       " 16.866925022997417,\n",
       " 16.877809267543377,\n",
       " 17.16020184887406,\n",
       " 18.067575290214183,\n",
       " 22.57714918551866,\n",
       " 23.00243748656176,\n",
       " 23.387897345210142,\n",
       " 25.657759349886017,\n",
       " 27.161923236252157,\n",
       " 28.814314704717724,\n",
       " 30.440132812759334,\n",
       " 32.097125699523325,\n",
       " 32.30474853232717,\n",
       " 32.85746013031923,\n",
       " 33.30625383092532,\n",
       " 37.661328599457576,\n",
       " 38.906063425321506,\n",
       " 40.77392945666625,\n",
       " 41.34577185421822,\n",
       " 45.44319437674303,\n",
       " 45.66858817364974,\n",
       " 46.849134423662605,\n",
       " 47.06309878414573,\n",
       " 54.740825530658135,\n",
       " 67.12278580056329,\n",
       " 82.20758594876054,\n",
       " 121.44651952736987,\n",
       " 143.92146286494645,\n",
       " 178.6288362135547}"
      ]
     },
     "execution_count": 40,
     "metadata": {},
     "output_type": "execute_result"
    }
   ],
   "source": [
    "f1_ppm - f1_ppm_set"
   ]
  },
  {
   "cell_type": "code",
   "execution_count": 19,
   "id": "845b33f2",
   "metadata": {},
   "outputs": [
    {
     "data": {
      "text/html": [
       "<div>\n",
       "<style scoped>\n",
       "    .dataframe tbody tr th:only-of-type {\n",
       "        vertical-align: middle;\n",
       "    }\n",
       "\n",
       "    .dataframe tbody tr th {\n",
       "        vertical-align: top;\n",
       "    }\n",
       "\n",
       "    .dataframe thead th {\n",
       "        text-align: right;\n",
       "    }\n",
       "</style>\n",
       "<table border=\"1\" class=\"dataframe\">\n",
       "  <thead>\n",
       "    <tr style=\"text-align: right;\">\n",
       "      <th></th>\n",
       "      <th>ppm</th>\n",
       "      <th>intensity</th>\n",
       "      <th>signaltype</th>\n",
       "    </tr>\n",
       "  </thead>\n",
       "  <tbody>\n",
       "    <tr>\n",
       "      <th>1</th>\n",
       "      <td>166.695425</td>\n",
       "      <td>19.994448</td>\n",
       "      <td>0</td>\n",
       "    </tr>\n",
       "    <tr>\n",
       "      <th>2</th>\n",
       "      <td>132.802759</td>\n",
       "      <td>64.810880</td>\n",
       "      <td>0</td>\n",
       "    </tr>\n",
       "    <tr>\n",
       "      <th>3</th>\n",
       "      <td>130.545516</td>\n",
       "      <td>25.182103</td>\n",
       "      <td>0</td>\n",
       "    </tr>\n",
       "    <tr>\n",
       "      <th>4</th>\n",
       "      <td>129.543251</td>\n",
       "      <td>124.670495</td>\n",
       "      <td>0</td>\n",
       "    </tr>\n",
       "    <tr>\n",
       "      <th>5</th>\n",
       "      <td>128.326245</td>\n",
       "      <td>127.283891</td>\n",
       "      <td>0</td>\n",
       "    </tr>\n",
       "    <tr>\n",
       "      <th>6</th>\n",
       "      <td>66.540012</td>\n",
       "      <td>65.078485</td>\n",
       "      <td>0</td>\n",
       "    </tr>\n",
       "    <tr>\n",
       "      <th>7</th>\n",
       "      <td>22.133251</td>\n",
       "      <td>73.437556</td>\n",
       "      <td>0</td>\n",
       "    </tr>\n",
       "    <tr>\n",
       "      <th>8</th>\n",
       "      <td>10.534988</td>\n",
       "      <td>73.387856</td>\n",
       "      <td>0</td>\n",
       "    </tr>\n",
       "  </tbody>\n",
       "</table>\n",
       "</div>"
      ],
      "text/plain": [
       "          ppm   intensity  signaltype\n",
       "1  166.695425   19.994448           0\n",
       "2  132.802759   64.810880           0\n",
       "3  130.545516   25.182103           0\n",
       "4  129.543251  124.670495           0\n",
       "5  128.326245  127.283891           0\n",
       "6   66.540012   65.078485           0\n",
       "7   22.133251   73.437556           0\n",
       "8   10.534988   73.387856           0"
      ]
     },
     "execution_count": 19,
     "metadata": {},
     "output_type": "execute_result"
    }
   ],
   "source": [
    "problemdata_json.dataframes[\"C13_1D\"]"
   ]
  },
  {
   "cell_type": "code",
   "execution_count": 20,
   "id": "1c5bf0db",
   "metadata": {},
   "outputs": [
    {
     "data": {
      "text/html": [
       "<div>\n",
       "<style scoped>\n",
       "    .dataframe tbody tr th:only-of-type {\n",
       "        vertical-align: middle;\n",
       "    }\n",
       "\n",
       "    .dataframe tbody tr th {\n",
       "        vertical-align: top;\n",
       "    }\n",
       "\n",
       "    .dataframe thead th {\n",
       "        text-align: right;\n",
       "    }\n",
       "</style>\n",
       "<table border=\"1\" class=\"dataframe\">\n",
       "  <thead>\n",
       "    <tr style=\"text-align: right;\">\n",
       "      <th></th>\n",
       "      <th>f2_ppm</th>\n",
       "      <th>f1_ppm</th>\n",
       "      <th>intensity</th>\n",
       "      <th>signaltype</th>\n",
       "      <th>Annotation</th>\n",
       "    </tr>\n",
       "  </thead>\n",
       "  <tbody>\n",
       "    <tr>\n",
       "      <th>1</th>\n",
       "      <td>8.078545</td>\n",
       "      <td>129.543251</td>\n",
       "      <td>4348.116604</td>\n",
       "      <td>0</td>\n",
       "      <td></td>\n",
       "    </tr>\n",
       "    <tr>\n",
       "      <th>2</th>\n",
       "      <td>7.570434</td>\n",
       "      <td>132.802759</td>\n",
       "      <td>2165.756527</td>\n",
       "      <td>0</td>\n",
       "      <td></td>\n",
       "    </tr>\n",
       "    <tr>\n",
       "      <th>3</th>\n",
       "      <td>7.458786</td>\n",
       "      <td>128.326245</td>\n",
       "      <td>4241.996319</td>\n",
       "      <td>0</td>\n",
       "      <td></td>\n",
       "    </tr>\n",
       "    <tr>\n",
       "      <th>4</th>\n",
       "      <td>4.308999</td>\n",
       "      <td>66.540012</td>\n",
       "      <td>-3490.936963</td>\n",
       "      <td>0</td>\n",
       "      <td></td>\n",
       "    </tr>\n",
       "    <tr>\n",
       "      <th>5</th>\n",
       "      <td>1.819650</td>\n",
       "      <td>22.133251</td>\n",
       "      <td>-2968.082728</td>\n",
       "      <td>0</td>\n",
       "      <td></td>\n",
       "    </tr>\n",
       "    <tr>\n",
       "      <th>6</th>\n",
       "      <td>1.058401</td>\n",
       "      <td>10.534988</td>\n",
       "      <td>3745.903110</td>\n",
       "      <td>0</td>\n",
       "      <td></td>\n",
       "    </tr>\n",
       "  </tbody>\n",
       "</table>\n",
       "</div>"
      ],
      "text/plain": [
       "     f2_ppm      f1_ppm    intensity  signaltype Annotation\n",
       "1  8.078545  129.543251  4348.116604           0           \n",
       "2  7.570434  132.802759  2165.756527           0           \n",
       "3  7.458786  128.326245  4241.996319           0           \n",
       "4  4.308999   66.540012 -3490.936963           0           \n",
       "5  1.819650   22.133251 -2968.082728           0           \n",
       "6  1.058401   10.534988  3745.903110           0           "
      ]
     },
     "execution_count": 20,
     "metadata": {},
     "output_type": "execute_result"
    }
   ],
   "source": [
    "problemdata_json.dataframes[\"HSQC\" ]"
   ]
  },
  {
   "cell_type": "code",
   "execution_count": 21,
   "id": "d1b13b46",
   "metadata": {},
   "outputs": [
    {
     "data": {
      "text/html": [
       "<div>\n",
       "<style scoped>\n",
       "    .dataframe tbody tr th:only-of-type {\n",
       "        vertical-align: middle;\n",
       "    }\n",
       "\n",
       "    .dataframe tbody tr th {\n",
       "        vertical-align: top;\n",
       "    }\n",
       "\n",
       "    .dataframe thead th {\n",
       "        text-align: right;\n",
       "    }\n",
       "</style>\n",
       "<table border=\"1\" class=\"dataframe\">\n",
       "  <thead>\n",
       "    <tr style=\"text-align: right;\">\n",
       "      <th></th>\n",
       "      <th>Name</th>\n",
       "      <th>ppm</th>\n",
       "      <th>range</th>\n",
       "      <th>numProtons</th>\n",
       "      <th>integral</th>\n",
       "      <th>jCouplingClass</th>\n",
       "      <th>jCouplingVals</th>\n",
       "      <th>Method</th>\n",
       "      <th>signaltype</th>\n",
       "    </tr>\n",
       "  </thead>\n",
       "  <tbody>\n",
       "  </tbody>\n",
       "</table>\n",
       "</div>"
      ],
      "text/plain": [
       "Empty DataFrame\n",
       "Columns: [Name, ppm, range, numProtons, integral, jCouplingClass, jCouplingVals, Method, signaltype]\n",
       "Index: []"
      ]
     },
     "execution_count": 21,
     "metadata": {},
     "output_type": "execute_result"
    }
   ],
   "source": [
    "problemdata_json.dataframes[\"H1_1D\"]"
   ]
  },
  {
   "cell_type": "code",
   "execution_count": 22,
   "id": "905028b8",
   "metadata": {},
   "outputs": [
    {
     "data": {
      "text/html": [
       "<div>\n",
       "<style scoped>\n",
       "    .dataframe tbody tr th:only-of-type {\n",
       "        vertical-align: middle;\n",
       "    }\n",
       "\n",
       "    .dataframe tbody tr th {\n",
       "        vertical-align: top;\n",
       "    }\n",
       "\n",
       "    .dataframe thead th {\n",
       "        text-align: right;\n",
       "    }\n",
       "</style>\n",
       "<table border=\"1\" class=\"dataframe\">\n",
       "  <thead>\n",
       "    <tr style=\"text-align: right;\">\n",
       "      <th></th>\n",
       "      <th>f2_ppm</th>\n",
       "      <th>f1_ppm</th>\n",
       "      <th>intensity</th>\n",
       "      <th>signaltype</th>\n",
       "      <th>Annotation</th>\n",
       "    </tr>\n",
       "  </thead>\n",
       "  <tbody>\n",
       "    <tr>\n",
       "      <th>1</th>\n",
       "      <td>8.078545</td>\n",
       "      <td>166.695425</td>\n",
       "      <td>6.353929</td>\n",
       "      <td>0</td>\n",
       "      <td></td>\n",
       "    </tr>\n",
       "    <tr>\n",
       "      <th>2</th>\n",
       "      <td>8.078545</td>\n",
       "      <td>129.543251</td>\n",
       "      <td>13.669923</td>\n",
       "      <td>0</td>\n",
       "      <td></td>\n",
       "    </tr>\n",
       "    <tr>\n",
       "      <th>3</th>\n",
       "      <td>8.078545</td>\n",
       "      <td>128.326245</td>\n",
       "      <td>0.133739</td>\n",
       "      <td>0</td>\n",
       "      <td></td>\n",
       "    </tr>\n",
       "    <tr>\n",
       "      <th>4</th>\n",
       "      <td>8.078545</td>\n",
       "      <td>132.802759</td>\n",
       "      <td>10.057786</td>\n",
       "      <td>0</td>\n",
       "      <td></td>\n",
       "    </tr>\n",
       "    <tr>\n",
       "      <th>5</th>\n",
       "      <td>7.570434</td>\n",
       "      <td>129.543251</td>\n",
       "      <td>15.929006</td>\n",
       "      <td>0</td>\n",
       "      <td></td>\n",
       "    </tr>\n",
       "    <tr>\n",
       "      <th>6</th>\n",
       "      <td>7.570434</td>\n",
       "      <td>128.326245</td>\n",
       "      <td>6.843149</td>\n",
       "      <td>0</td>\n",
       "      <td></td>\n",
       "    </tr>\n",
       "    <tr>\n",
       "      <th>7</th>\n",
       "      <td>7.458786</td>\n",
       "      <td>132.802759</td>\n",
       "      <td>11.806840</td>\n",
       "      <td>0</td>\n",
       "      <td></td>\n",
       "    </tr>\n",
       "    <tr>\n",
       "      <th>8</th>\n",
       "      <td>7.458786</td>\n",
       "      <td>130.545516</td>\n",
       "      <td>13.937969</td>\n",
       "      <td>0</td>\n",
       "      <td></td>\n",
       "    </tr>\n",
       "    <tr>\n",
       "      <th>9</th>\n",
       "      <td>7.458786</td>\n",
       "      <td>129.543251</td>\n",
       "      <td>10.928381</td>\n",
       "      <td>0</td>\n",
       "      <td></td>\n",
       "    </tr>\n",
       "    <tr>\n",
       "      <th>10</th>\n",
       "      <td>7.458786</td>\n",
       "      <td>128.326245</td>\n",
       "      <td>6.742388</td>\n",
       "      <td>0</td>\n",
       "      <td></td>\n",
       "    </tr>\n",
       "    <tr>\n",
       "      <th>11</th>\n",
       "      <td>4.308999</td>\n",
       "      <td>166.695425</td>\n",
       "      <td>44.931171</td>\n",
       "      <td>0</td>\n",
       "      <td></td>\n",
       "    </tr>\n",
       "    <tr>\n",
       "      <th>12</th>\n",
       "      <td>4.308999</td>\n",
       "      <td>22.133251</td>\n",
       "      <td>41.532883</td>\n",
       "      <td>0</td>\n",
       "      <td></td>\n",
       "    </tr>\n",
       "    <tr>\n",
       "      <th>13</th>\n",
       "      <td>4.308999</td>\n",
       "      <td>10.534988</td>\n",
       "      <td>38.587563</td>\n",
       "      <td>0</td>\n",
       "      <td></td>\n",
       "    </tr>\n",
       "    <tr>\n",
       "      <th>14</th>\n",
       "      <td>1.819650</td>\n",
       "      <td>66.540012</td>\n",
       "      <td>12.147125</td>\n",
       "      <td>0</td>\n",
       "      <td></td>\n",
       "    </tr>\n",
       "    <tr>\n",
       "      <th>15</th>\n",
       "      <td>1.819650</td>\n",
       "      <td>10.534988</td>\n",
       "      <td>9.756729</td>\n",
       "      <td>0</td>\n",
       "      <td></td>\n",
       "    </tr>\n",
       "    <tr>\n",
       "      <th>16</th>\n",
       "      <td>1.058401</td>\n",
       "      <td>66.540012</td>\n",
       "      <td>35.504025</td>\n",
       "      <td>0</td>\n",
       "      <td></td>\n",
       "    </tr>\n",
       "    <tr>\n",
       "      <th>17</th>\n",
       "      <td>1.058401</td>\n",
       "      <td>22.133251</td>\n",
       "      <td>66.141502</td>\n",
       "      <td>0</td>\n",
       "      <td></td>\n",
       "    </tr>\n",
       "  </tbody>\n",
       "</table>\n",
       "</div>"
      ],
      "text/plain": [
       "      f2_ppm      f1_ppm  intensity  signaltype Annotation\n",
       "1   8.078545  166.695425   6.353929           0           \n",
       "2   8.078545  129.543251  13.669923           0           \n",
       "3   8.078545  128.326245   0.133739           0           \n",
       "4   8.078545  132.802759  10.057786           0           \n",
       "5   7.570434  129.543251  15.929006           0           \n",
       "6   7.570434  128.326245   6.843149           0           \n",
       "7   7.458786  132.802759  11.806840           0           \n",
       "8   7.458786  130.545516  13.937969           0           \n",
       "9   7.458786  129.543251  10.928381           0           \n",
       "10  7.458786  128.326245   6.742388           0           \n",
       "11  4.308999  166.695425  44.931171           0           \n",
       "12  4.308999   22.133251  41.532883           0           \n",
       "13  4.308999   10.534988  38.587563           0           \n",
       "14  1.819650   66.540012  12.147125           0           \n",
       "15  1.819650   10.534988   9.756729           0           \n",
       "16  1.058401   66.540012  35.504025           0           \n",
       "17  1.058401   22.133251  66.141502           0           "
      ]
     },
     "execution_count": 22,
     "metadata": {},
     "output_type": "execute_result"
    }
   ],
   "source": [
    "problemdata_json.dataframes[\"HMBC\"]"
   ]
  },
  {
   "cell_type": "code",
   "execution_count": 23,
   "id": "a08b528e",
   "metadata": {},
   "outputs": [
    {
     "data": {
      "text/html": [
       "<div>\n",
       "<style scoped>\n",
       "    .dataframe tbody tr th:only-of-type {\n",
       "        vertical-align: middle;\n",
       "    }\n",
       "\n",
       "    .dataframe tbody tr th {\n",
       "        vertical-align: top;\n",
       "    }\n",
       "\n",
       "    .dataframe thead th {\n",
       "        text-align: right;\n",
       "    }\n",
       "</style>\n",
       "<table border=\"1\" class=\"dataframe\">\n",
       "  <thead>\n",
       "    <tr style=\"text-align: right;\">\n",
       "      <th></th>\n",
       "      <th>f2_ppm</th>\n",
       "      <th>f1_ppm</th>\n",
       "      <th>intensity</th>\n",
       "      <th>signaltype</th>\n",
       "      <th>Annotation</th>\n",
       "    </tr>\n",
       "  </thead>\n",
       "  <tbody>\n",
       "    <tr>\n",
       "      <th>1</th>\n",
       "      <td>1.058401</td>\n",
       "      <td>10.534988</td>\n",
       "      <td>40.283642</td>\n",
       "      <td>0</td>\n",
       "      <td></td>\n",
       "    </tr>\n",
       "  </tbody>\n",
       "</table>\n",
       "</div>"
      ],
      "text/plain": [
       "     f2_ppm     f1_ppm  intensity  signaltype Annotation\n",
       "1  1.058401  10.534988  40.283642           0           "
      ]
     },
     "execution_count": 23,
     "metadata": {},
     "output_type": "execute_result"
    }
   ],
   "source": [
    "problemdata_json.dataframes[\"DDEPT_CH3_ONLY\"]"
   ]
  },
  {
   "cell_type": "code",
   "execution_count": 24,
   "id": "6bfd660c",
   "metadata": {},
   "outputs": [
    {
     "data": {
      "text/html": [
       "<div>\n",
       "<style scoped>\n",
       "    .dataframe tbody tr th:only-of-type {\n",
       "        vertical-align: middle;\n",
       "    }\n",
       "\n",
       "    .dataframe tbody tr th {\n",
       "        vertical-align: top;\n",
       "    }\n",
       "\n",
       "    .dataframe thead th {\n",
       "        text-align: right;\n",
       "    }\n",
       "</style>\n",
       "<table border=\"1\" class=\"dataframe\">\n",
       "  <thead>\n",
       "    <tr style=\"text-align: right;\">\n",
       "      <th></th>\n",
       "      <th>f2_ppm</th>\n",
       "      <th>f1_ppm</th>\n",
       "      <th>intensity</th>\n",
       "      <th>signaltype</th>\n",
       "      <th>Annotation</th>\n",
       "    </tr>\n",
       "  </thead>\n",
       "  <tbody>\n",
       "    <tr>\n",
       "      <th>1</th>\n",
       "      <td>7.570434</td>\n",
       "      <td>128.326245</td>\n",
       "      <td>-216.472763</td>\n",
       "      <td>0</td>\n",
       "      <td></td>\n",
       "    </tr>\n",
       "    <tr>\n",
       "      <th>2</th>\n",
       "      <td>7.458786</td>\n",
       "      <td>132.802759</td>\n",
       "      <td>-75.264336</td>\n",
       "      <td>0</td>\n",
       "      <td></td>\n",
       "    </tr>\n",
       "    <tr>\n",
       "      <th>3</th>\n",
       "      <td>7.458786</td>\n",
       "      <td>129.543251</td>\n",
       "      <td>-24.668022</td>\n",
       "      <td>0</td>\n",
       "      <td></td>\n",
       "    </tr>\n",
       "    <tr>\n",
       "      <th>4</th>\n",
       "      <td>4.308999</td>\n",
       "      <td>22.133251</td>\n",
       "      <td>-48.614876</td>\n",
       "      <td>0</td>\n",
       "      <td></td>\n",
       "    </tr>\n",
       "    <tr>\n",
       "      <th>5</th>\n",
       "      <td>1.819650</td>\n",
       "      <td>10.534988</td>\n",
       "      <td>-63.202045</td>\n",
       "      <td>0</td>\n",
       "      <td></td>\n",
       "    </tr>\n",
       "    <tr>\n",
       "      <th>6</th>\n",
       "      <td>1.058401</td>\n",
       "      <td>22.133251</td>\n",
       "      <td>-70.584999</td>\n",
       "      <td>0</td>\n",
       "      <td></td>\n",
       "    </tr>\n",
       "  </tbody>\n",
       "</table>\n",
       "</div>"
      ],
      "text/plain": [
       "     f2_ppm      f1_ppm   intensity  signaltype Annotation\n",
       "1  7.570434  128.326245 -216.472763           0           \n",
       "2  7.458786  132.802759  -75.264336           0           \n",
       "3  7.458786  129.543251  -24.668022           0           \n",
       "4  4.308999   22.133251  -48.614876           0           \n",
       "5  1.819650   10.534988  -63.202045           0           \n",
       "6  1.058401   22.133251  -70.584999           0           "
      ]
     },
     "execution_count": 24,
     "metadata": {},
     "output_type": "execute_result"
    }
   ],
   "source": [
    "problemdata_json.dataframes[\"HSQC_CLIPCOSY\"]"
   ]
  },
  {
   "cell_type": "code",
   "execution_count": 25,
   "id": "101f6605",
   "metadata": {},
   "outputs": [],
   "source": [
    "f1_ppm = set(problemdata_json.dataframes[\"C13_1D\"][\"ppm\"].values)\n",
    "f2_ppm = set(problemdata_json.dataframes[\"HSQC\"][\"f2_ppm\"].values)"
   ]
  },
  {
   "cell_type": "code",
   "execution_count": 26,
   "id": "78e13c3b",
   "metadata": {},
   "outputs": [
    {
     "data": {
      "text/plain": [
       "({1.058401248781674,\n",
       "  1.8196498173411997,\n",
       "  4.308998760587829,\n",
       "  7.45878562496919,\n",
       "  7.570433954647988,\n",
       "  8.078545323022594},\n",
       " ' ',\n",
       " {10.534988140909833,\n",
       "  22.13325068153482,\n",
       "  66.54001196762553,\n",
       "  128.32624479741867,\n",
       "  129.54325065433375,\n",
       "  130.54551625936355,\n",
       "  132.80275860424334,\n",
       "  166.69542467701189})"
      ]
     },
     "execution_count": 26,
     "metadata": {},
     "output_type": "execute_result"
    }
   ],
   "source": [
    "f2_ppm, \" \", f1_ppm"
   ]
  },
  {
   "cell_type": "code",
   "execution_count": 27,
   "id": "bce3e617",
   "metadata": {},
   "outputs": [],
   "source": [
    "hmbc_f2_ppm = set(problemdata_json.dataframes[\"HMBC\"][\"f2_ppm\"].values)\n",
    "hmbc_f1_ppm = set(problemdata_json.dataframes[\"HMBC\"][\"f1_ppm\"].values)\n"
   ]
  },
  {
   "cell_type": "code",
   "execution_count": 28,
   "id": "2f2b5c6e",
   "metadata": {},
   "outputs": [
    {
     "data": {
      "text/plain": [
       "{1.058401248781674,\n",
       " 1.8196498173411997,\n",
       " 4.308998760587829,\n",
       " 7.45878562496919,\n",
       " 7.570433954647988,\n",
       " 8.078545323022594}"
      ]
     },
     "execution_count": 28,
     "metadata": {},
     "output_type": "execute_result"
    }
   ],
   "source": [
    "hmbc_f2_ppm"
   ]
  },
  {
   "cell_type": "code",
   "execution_count": 29,
   "id": "783cf650",
   "metadata": {},
   "outputs": [
    {
     "data": {
      "text/plain": [
       "{10.534988140909833,\n",
       " 22.13325068153482,\n",
       " 66.54001196762553,\n",
       " 128.32624479741867,\n",
       " 129.54325065433375,\n",
       " 130.54551625936355,\n",
       " 132.80275860424334,\n",
       " 166.69542467701189}"
      ]
     },
     "execution_count": 29,
     "metadata": {},
     "output_type": "execute_result"
    }
   ],
   "source": [
    "hmbc_f1_ppm"
   ]
  },
  {
   "cell_type": "code",
   "execution_count": 30,
   "id": "0e84d99f",
   "metadata": {},
   "outputs": [
    {
     "data": {
      "text/plain": [
       "set()"
      ]
     },
     "execution_count": 30,
     "metadata": {},
     "output_type": "execute_result"
    }
   ],
   "source": [
    "# set of hmbc_f2_ppm - f2_ppm\n",
    "hmbc_f2_ppm - f2_ppm"
   ]
  },
  {
   "cell_type": "code",
   "execution_count": 31,
   "id": "63b1cc44",
   "metadata": {},
   "outputs": [
    {
     "data": {
      "text/plain": [
       "set()"
      ]
     },
     "execution_count": 31,
     "metadata": {},
     "output_type": "execute_result"
    }
   ],
   "source": [
    "hmbc_f1_ppm - f1_ppm"
   ]
  },
  {
   "cell_type": "code",
   "execution_count": 32,
   "id": "bb6111d3",
   "metadata": {},
   "outputs": [
    {
     "data": {
      "text/plain": [
       "{1.058401248781674}"
      ]
     },
     "execution_count": 32,
     "metadata": {},
     "output_type": "execute_result"
    }
   ],
   "source": [
    "set(problemdata_json.dataframes[\"DDEPT_CH3_ONLY\"][\"f2_ppm\"].values)"
   ]
  },
  {
   "cell_type": "code",
   "execution_count": 33,
   "id": "12429a37",
   "metadata": {},
   "outputs": [
    {
     "data": {
      "text/plain": [
       "set()"
      ]
     },
     "execution_count": 33,
     "metadata": {},
     "output_type": "execute_result"
    }
   ],
   "source": [
    "CH3_only_f2_ppm = set(problemdata_json.dataframes[\"DDEPT_CH3_ONLY\"][\"f2_ppm\"].values) - f2_ppm\n",
    "CH3_only_f2_ppm"
   ]
  },
  {
   "cell_type": "code",
   "execution_count": 34,
   "id": "839b0e57",
   "metadata": {},
   "outputs": [
    {
     "data": {
      "text/plain": [
       "{10.534988140909833}"
      ]
     },
     "execution_count": 34,
     "metadata": {},
     "output_type": "execute_result"
    }
   ],
   "source": [
    "set(problemdata_json.dataframes[\"DDEPT_CH3_ONLY\"][\"f1_ppm\"].values)"
   ]
  },
  {
   "cell_type": "code",
   "execution_count": 35,
   "id": "6e1725c7",
   "metadata": {},
   "outputs": [
    {
     "data": {
      "text/plain": [
       "set()"
      ]
     },
     "execution_count": 35,
     "metadata": {},
     "output_type": "execute_result"
    }
   ],
   "source": [
    "CH3_only_f1_ppm = set(problemdata_json.dataframes[\"DDEPT_CH3_ONLY\"][\"f1_ppm\"].values) - f1_ppm\n",
    "CH3_only_f1_ppm"
   ]
  },
  {
   "cell_type": "code",
   "execution_count": 36,
   "id": "2d394ae5",
   "metadata": {},
   "outputs": [
    {
     "data": {
      "text/html": [
       "<div>\n",
       "<style scoped>\n",
       "    .dataframe tbody tr th:only-of-type {\n",
       "        vertical-align: middle;\n",
       "    }\n",
       "\n",
       "    .dataframe tbody tr th {\n",
       "        vertical-align: top;\n",
       "    }\n",
       "\n",
       "    .dataframe thead th {\n",
       "        text-align: right;\n",
       "    }\n",
       "</style>\n",
       "<table border=\"1\" class=\"dataframe\">\n",
       "  <thead>\n",
       "    <tr style=\"text-align: right;\">\n",
       "      <th></th>\n",
       "      <th>f2_ppm</th>\n",
       "      <th>f1_ppm</th>\n",
       "      <th>intensity</th>\n",
       "      <th>signaltype</th>\n",
       "      <th>Annotation</th>\n",
       "    </tr>\n",
       "  </thead>\n",
       "  <tbody>\n",
       "    <tr>\n",
       "      <th>1</th>\n",
       "      <td>1.058401</td>\n",
       "      <td>10.534988</td>\n",
       "      <td>40.283642</td>\n",
       "      <td>0</td>\n",
       "      <td></td>\n",
       "    </tr>\n",
       "  </tbody>\n",
       "</table>\n",
       "</div>"
      ],
      "text/plain": [
       "     f2_ppm     f1_ppm  intensity  signaltype Annotation\n",
       "1  1.058401  10.534988  40.283642           0           "
      ]
     },
     "execution_count": 36,
     "metadata": {},
     "output_type": "execute_result"
    }
   ],
   "source": [
    "problemdata_json.dataframes[\"DDEPT_CH3_ONLY\"]"
   ]
  },
  {
   "cell_type": "code",
   "execution_count": 37,
   "id": "bd4c40b3",
   "metadata": {},
   "outputs": [
    {
     "data": {
      "text/html": [
       "<div>\n",
       "<style scoped>\n",
       "    .dataframe tbody tr th:only-of-type {\n",
       "        vertical-align: middle;\n",
       "    }\n",
       "\n",
       "    .dataframe tbody tr th {\n",
       "        vertical-align: top;\n",
       "    }\n",
       "\n",
       "    .dataframe thead th {\n",
       "        text-align: right;\n",
       "    }\n",
       "</style>\n",
       "<table border=\"1\" class=\"dataframe\">\n",
       "  <thead>\n",
       "    <tr style=\"text-align: right;\">\n",
       "      <th></th>\n",
       "      <th>f2_ppm</th>\n",
       "      <th>f1_ppm</th>\n",
       "      <th>intensity</th>\n",
       "      <th>signaltype</th>\n",
       "      <th>Annotation</th>\n",
       "    </tr>\n",
       "  </thead>\n",
       "  <tbody>\n",
       "    <tr>\n",
       "      <th>1</th>\n",
       "      <td>7.570434</td>\n",
       "      <td>128.326245</td>\n",
       "      <td>-216.472763</td>\n",
       "      <td>0</td>\n",
       "      <td></td>\n",
       "    </tr>\n",
       "    <tr>\n",
       "      <th>2</th>\n",
       "      <td>7.458786</td>\n",
       "      <td>132.802759</td>\n",
       "      <td>-75.264336</td>\n",
       "      <td>0</td>\n",
       "      <td></td>\n",
       "    </tr>\n",
       "    <tr>\n",
       "      <th>3</th>\n",
       "      <td>7.458786</td>\n",
       "      <td>129.543251</td>\n",
       "      <td>-24.668022</td>\n",
       "      <td>0</td>\n",
       "      <td></td>\n",
       "    </tr>\n",
       "    <tr>\n",
       "      <th>4</th>\n",
       "      <td>4.308999</td>\n",
       "      <td>22.133251</td>\n",
       "      <td>-48.614876</td>\n",
       "      <td>0</td>\n",
       "      <td></td>\n",
       "    </tr>\n",
       "    <tr>\n",
       "      <th>5</th>\n",
       "      <td>1.819650</td>\n",
       "      <td>10.534988</td>\n",
       "      <td>-63.202045</td>\n",
       "      <td>0</td>\n",
       "      <td></td>\n",
       "    </tr>\n",
       "    <tr>\n",
       "      <th>6</th>\n",
       "      <td>1.058401</td>\n",
       "      <td>22.133251</td>\n",
       "      <td>-70.584999</td>\n",
       "      <td>0</td>\n",
       "      <td></td>\n",
       "    </tr>\n",
       "  </tbody>\n",
       "</table>\n",
       "</div>"
      ],
      "text/plain": [
       "     f2_ppm      f1_ppm   intensity  signaltype Annotation\n",
       "1  7.570434  128.326245 -216.472763           0           \n",
       "2  7.458786  132.802759  -75.264336           0           \n",
       "3  7.458786  129.543251  -24.668022           0           \n",
       "4  4.308999   22.133251  -48.614876           0           \n",
       "5  1.819650   10.534988  -63.202045           0           \n",
       "6  1.058401   22.133251  -70.584999           0           "
      ]
     },
     "execution_count": 37,
     "metadata": {},
     "output_type": "execute_result"
    }
   ],
   "source": [
    "problemdata_json.dataframes[\"HSQC_CLIPCOSY\"]"
   ]
  },
  {
   "cell_type": "code",
   "execution_count": 38,
   "id": "7563002c",
   "metadata": {},
   "outputs": [
    {
     "data": {
      "text/plain": [
       "{10.534988140909833,\n",
       " 22.13325068153482,\n",
       " 128.32624479741867,\n",
       " 129.54325065433375,\n",
       " 132.80275860424334}"
      ]
     },
     "execution_count": 38,
     "metadata": {},
     "output_type": "execute_result"
    }
   ],
   "source": [
    "set(problemdata_json.dataframes[\"HSQC_CLIPCOSY\"][\"f1_ppm\"].values)"
   ]
  },
  {
   "cell_type": "code",
   "execution_count": 39,
   "id": "0b120b5b",
   "metadata": {},
   "outputs": [
    {
     "data": {
      "text/plain": [
       "{1.058401248781674,\n",
       " 1.8196498173411997,\n",
       " 4.308998760587829,\n",
       " 7.45878562496919,\n",
       " 7.570433954647988}"
      ]
     },
     "execution_count": 39,
     "metadata": {},
     "output_type": "execute_result"
    }
   ],
   "source": [
    "set(problemdata_json.dataframes[\"HSQC_CLIPCOSY\"][\"f2_ppm\"].values)"
   ]
  },
  {
   "cell_type": "code",
   "execution_count": 40,
   "id": "25c8e5d6",
   "metadata": {},
   "outputs": [
    {
     "data": {
      "text/plain": [
       "set()"
      ]
     },
     "execution_count": 40,
     "metadata": {},
     "output_type": "execute_result"
    }
   ],
   "source": [
    "set(problemdata_json.dataframes[\"HSQC_CLIPCOSY\"][\"f1_ppm\"].values) - f1_ppm"
   ]
  },
  {
   "cell_type": "code",
   "execution_count": 41,
   "id": "40aa059f",
   "metadata": {},
   "outputs": [
    {
     "data": {
      "text/plain": [
       "set()"
      ]
     },
     "execution_count": 41,
     "metadata": {},
     "output_type": "execute_result"
    }
   ],
   "source": [
    "set(problemdata_json.dataframes[\"HSQC_CLIPCOSY\"][\"f2_ppm\"].values) - f2_ppm"
   ]
  },
  {
   "cell_type": "code",
   "execution_count": null,
   "id": "2cb38912",
   "metadata": {},
   "outputs": [],
   "source": []
  },
  {
   "cell_type": "code",
   "execution_count": null,
   "id": "37829fdf",
   "metadata": {},
   "outputs": [],
   "source": []
  }
 ],
 "metadata": {
  "kernelspec": {
   "display_name": "rdkit37",
   "language": "python",
   "name": "python3"
  },
  "language_info": {
   "codemirror_mode": {
    "name": "ipython",
    "version": 3
   },
   "file_extension": ".py",
   "mimetype": "text/x-python",
   "name": "python",
   "nbconvert_exporter": "python",
   "pygments_lexer": "ipython3",
   "version": "3.7.1"
  }
 },
 "nbformat": 4,
 "nbformat_minor": 5
}
